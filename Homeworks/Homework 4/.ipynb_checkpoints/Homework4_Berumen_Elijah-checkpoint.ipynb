{
 "cells": [
  {
   "cell_type": "markdown",
   "metadata": {},
   "source": [
    "##### <a id='top'></a>\n",
    "\n",
    "# Homework 4: Confidence intervals and other things\n",
    "***\n",
    "\n",
    "**Name**: Elijah Berumen\n",
    "\n",
    "***\n",
    "\n",
    "This assignment is due on Moodle by **11:59 PM on Friday November 8**. Your solutions to theoretical questions should be done in Markdown/MathJax directly below the associated question.  Your solutions to computational questions should include any specified Python code and results as well as written commentary on your conclusions.  Remember that you are encouraged to discuss the problems with your instructors and classmates, but **you must write all code and solutions on your own**.  \n",
    "\n",
    "**NOTES**: \n",
    "\n",
    "- Do **NOT** load or use any Python packages that are not available in Anaconda 3.6. \n",
    "- Some problems with code may be autograded.  If we provide a function API **do not** change it.  If we do not provide a function API then you're free to structure your code however you like. \n",
    "- Because you can technically evaluate notebook cells is a non-linear order, it's a good idea to do Cell $\\rightarrow$ Run All as a check before submitting your solutions.  That way if we need to run your code you will know that it will work as expected. \n",
    "- Submit only this Jupyter notebook to Moodle.  Do not compress it using tar, rar, zip, etc. \n",
    "- This should go without saying, but... For any question that asks you to calculate something, you **must show all work to receive credit**. Sparse or nonexistent work will receive sparse or nonexistent credit.\n",
    "\n",
    "---\n",
    "**Shortcuts:**  [Problem 1](#p1) | [Problem 2](#p2) | [Problem 3](#p3) | [Problem 4](#p4)\n",
    "\n",
    "---"
   ]
  },
  {
   "cell_type": "code",
   "execution_count": 64,
   "metadata": {
    "scrolled": true
   },
   "outputs": [],
   "source": [
    "import numpy as np\n",
    "import matplotlib.pyplot as plt\n",
    "import pandas as pd\n",
    "import scipy.stats as stats\n",
    "%matplotlib inline"
   ]
  },
  {
   "cell_type": "markdown",
   "metadata": {},
   "source": [
    "---\n",
    "\n",
    "<a id='p1'></a>\n",
    "[Back to top](#top)\n",
    "\n",
    "### [30 points] Problem 1 - Are sea-levels changing?\n",
    "\n",
    "You have been contacted by the local government of New York City, to assess whether there is statistical evidence for sea-level rise in the area. You obtain from the University of Hawaii Sea Level Center's [gigantic repository of sea-level data](https://uhslc.soest.hawaii.edu/data/?rq) the daily mean sea levels file (posted on Canvas).\n",
    "\n",
    "In this problem, you will:\n",
    "1. practice calculating confidence intervals, \n",
    "1. practice wrangling a real-life data set into a form where you can actually compute these confidence intervals, because life will rarely be so kind as to simply hand you a nicely packaged and cleaned set of data, and\n",
    "1. save NYC and the Statue of Liberty from a watery fate?"
   ]
  },
  {
   "cell_type": "code",
   "execution_count": 65,
   "metadata": {},
   "outputs": [
    {
     "data": {
      "text/html": [
       "<div>\n",
       "<style scoped>\n",
       "    .dataframe tbody tr th:only-of-type {\n",
       "        vertical-align: middle;\n",
       "    }\n",
       "\n",
       "    .dataframe tbody tr th {\n",
       "        vertical-align: top;\n",
       "    }\n",
       "\n",
       "    .dataframe thead th {\n",
       "        text-align: right;\n",
       "    }\n",
       "</style>\n",
       "<table border=\"1\" class=\"dataframe\">\n",
       "  <thead>\n",
       "    <tr style=\"text-align: right;\">\n",
       "      <th></th>\n",
       "      <th>Year</th>\n",
       "      <th>Month</th>\n",
       "      <th>Day</th>\n",
       "      <th>SL</th>\n",
       "    </tr>\n",
       "  </thead>\n",
       "  <tbody>\n",
       "    <tr>\n",
       "      <th>0</th>\n",
       "      <td>1920</td>\n",
       "      <td>6</td>\n",
       "      <td>2</td>\n",
       "      <td>1593</td>\n",
       "    </tr>\n",
       "    <tr>\n",
       "      <th>1</th>\n",
       "      <td>1920</td>\n",
       "      <td>6</td>\n",
       "      <td>3</td>\n",
       "      <td>1605</td>\n",
       "    </tr>\n",
       "    <tr>\n",
       "      <th>2</th>\n",
       "      <td>1920</td>\n",
       "      <td>6</td>\n",
       "      <td>4</td>\n",
       "      <td>1617</td>\n",
       "    </tr>\n",
       "    <tr>\n",
       "      <th>3</th>\n",
       "      <td>1920</td>\n",
       "      <td>6</td>\n",
       "      <td>5</td>\n",
       "      <td>1779</td>\n",
       "    </tr>\n",
       "    <tr>\n",
       "      <th>4</th>\n",
       "      <td>1920</td>\n",
       "      <td>6</td>\n",
       "      <td>6</td>\n",
       "      <td>1722</td>\n",
       "    </tr>\n",
       "    <tr>\n",
       "      <th>5</th>\n",
       "      <td>1920</td>\n",
       "      <td>6</td>\n",
       "      <td>7</td>\n",
       "      <td>1594</td>\n",
       "    </tr>\n",
       "    <tr>\n",
       "      <th>6</th>\n",
       "      <td>1920</td>\n",
       "      <td>6</td>\n",
       "      <td>8</td>\n",
       "      <td>1639</td>\n",
       "    </tr>\n",
       "    <tr>\n",
       "      <th>7</th>\n",
       "      <td>1920</td>\n",
       "      <td>6</td>\n",
       "      <td>9</td>\n",
       "      <td>1699</td>\n",
       "    </tr>\n",
       "    <tr>\n",
       "      <th>8</th>\n",
       "      <td>1920</td>\n",
       "      <td>6</td>\n",
       "      <td>10</td>\n",
       "      <td>1690</td>\n",
       "    </tr>\n",
       "    <tr>\n",
       "      <th>9</th>\n",
       "      <td>1920</td>\n",
       "      <td>6</td>\n",
       "      <td>11</td>\n",
       "      <td>1622</td>\n",
       "    </tr>\n",
       "    <tr>\n",
       "      <th>10</th>\n",
       "      <td>1920</td>\n",
       "      <td>6</td>\n",
       "      <td>12</td>\n",
       "      <td>1610</td>\n",
       "    </tr>\n",
       "    <tr>\n",
       "      <th>11</th>\n",
       "      <td>1920</td>\n",
       "      <td>6</td>\n",
       "      <td>13</td>\n",
       "      <td>1690</td>\n",
       "    </tr>\n",
       "    <tr>\n",
       "      <th>12</th>\n",
       "      <td>1920</td>\n",
       "      <td>6</td>\n",
       "      <td>14</td>\n",
       "      <td>1696</td>\n",
       "    </tr>\n",
       "    <tr>\n",
       "      <th>13</th>\n",
       "      <td>1920</td>\n",
       "      <td>6</td>\n",
       "      <td>15</td>\n",
       "      <td>1665</td>\n",
       "    </tr>\n",
       "    <tr>\n",
       "      <th>14</th>\n",
       "      <td>1920</td>\n",
       "      <td>6</td>\n",
       "      <td>16</td>\n",
       "      <td>1739</td>\n",
       "    </tr>\n",
       "    <tr>\n",
       "      <th>15</th>\n",
       "      <td>1920</td>\n",
       "      <td>6</td>\n",
       "      <td>17</td>\n",
       "      <td>1887</td>\n",
       "    </tr>\n",
       "    <tr>\n",
       "      <th>16</th>\n",
       "      <td>1920</td>\n",
       "      <td>6</td>\n",
       "      <td>18</td>\n",
       "      <td>1914</td>\n",
       "    </tr>\n",
       "    <tr>\n",
       "      <th>17</th>\n",
       "      <td>1920</td>\n",
       "      <td>6</td>\n",
       "      <td>19</td>\n",
       "      <td>1773</td>\n",
       "    </tr>\n",
       "    <tr>\n",
       "      <th>18</th>\n",
       "      <td>1920</td>\n",
       "      <td>6</td>\n",
       "      <td>20</td>\n",
       "      <td>1724</td>\n",
       "    </tr>\n",
       "    <tr>\n",
       "      <th>19</th>\n",
       "      <td>1920</td>\n",
       "      <td>6</td>\n",
       "      <td>21</td>\n",
       "      <td>1786</td>\n",
       "    </tr>\n",
       "    <tr>\n",
       "      <th>20</th>\n",
       "      <td>1920</td>\n",
       "      <td>6</td>\n",
       "      <td>22</td>\n",
       "      <td>1730</td>\n",
       "    </tr>\n",
       "    <tr>\n",
       "      <th>21</th>\n",
       "      <td>1920</td>\n",
       "      <td>6</td>\n",
       "      <td>23</td>\n",
       "      <td>1672</td>\n",
       "    </tr>\n",
       "    <tr>\n",
       "      <th>22</th>\n",
       "      <td>1920</td>\n",
       "      <td>6</td>\n",
       "      <td>24</td>\n",
       "      <td>1629</td>\n",
       "    </tr>\n",
       "    <tr>\n",
       "      <th>23</th>\n",
       "      <td>1920</td>\n",
       "      <td>6</td>\n",
       "      <td>25</td>\n",
       "      <td>1606</td>\n",
       "    </tr>\n",
       "    <tr>\n",
       "      <th>24</th>\n",
       "      <td>1920</td>\n",
       "      <td>6</td>\n",
       "      <td>26</td>\n",
       "      <td>1604</td>\n",
       "    </tr>\n",
       "    <tr>\n",
       "      <th>25</th>\n",
       "      <td>1920</td>\n",
       "      <td>6</td>\n",
       "      <td>27</td>\n",
       "      <td>1602</td>\n",
       "    </tr>\n",
       "    <tr>\n",
       "      <th>26</th>\n",
       "      <td>1920</td>\n",
       "      <td>6</td>\n",
       "      <td>28</td>\n",
       "      <td>1593</td>\n",
       "    </tr>\n",
       "    <tr>\n",
       "      <th>27</th>\n",
       "      <td>1920</td>\n",
       "      <td>6</td>\n",
       "      <td>29</td>\n",
       "      <td>1631</td>\n",
       "    </tr>\n",
       "    <tr>\n",
       "      <th>28</th>\n",
       "      <td>1920</td>\n",
       "      <td>6</td>\n",
       "      <td>30</td>\n",
       "      <td>1668</td>\n",
       "    </tr>\n",
       "    <tr>\n",
       "      <th>29</th>\n",
       "      <td>1920</td>\n",
       "      <td>7</td>\n",
       "      <td>1</td>\n",
       "      <td>1668</td>\n",
       "    </tr>\n",
       "    <tr>\n",
       "      <th>30</th>\n",
       "      <td>1920</td>\n",
       "      <td>7</td>\n",
       "      <td>2</td>\n",
       "      <td>1710</td>\n",
       "    </tr>\n",
       "    <tr>\n",
       "      <th>31</th>\n",
       "      <td>1920</td>\n",
       "      <td>7</td>\n",
       "      <td>3</td>\n",
       "      <td>1798</td>\n",
       "    </tr>\n",
       "    <tr>\n",
       "      <th>32</th>\n",
       "      <td>1920</td>\n",
       "      <td>7</td>\n",
       "      <td>4</td>\n",
       "      <td>1724</td>\n",
       "    </tr>\n",
       "    <tr>\n",
       "      <th>33</th>\n",
       "      <td>1920</td>\n",
       "      <td>7</td>\n",
       "      <td>5</td>\n",
       "      <td>1574</td>\n",
       "    </tr>\n",
       "    <tr>\n",
       "      <th>34</th>\n",
       "      <td>1920</td>\n",
       "      <td>7</td>\n",
       "      <td>6</td>\n",
       "      <td>1594</td>\n",
       "    </tr>\n",
       "    <tr>\n",
       "      <th>35</th>\n",
       "      <td>1920</td>\n",
       "      <td>7</td>\n",
       "      <td>7</td>\n",
       "      <td>1662</td>\n",
       "    </tr>\n",
       "    <tr>\n",
       "      <th>36</th>\n",
       "      <td>1920</td>\n",
       "      <td>7</td>\n",
       "      <td>8</td>\n",
       "      <td>1654</td>\n",
       "    </tr>\n",
       "    <tr>\n",
       "      <th>37</th>\n",
       "      <td>1920</td>\n",
       "      <td>7</td>\n",
       "      <td>9</td>\n",
       "      <td>1585</td>\n",
       "    </tr>\n",
       "    <tr>\n",
       "      <th>38</th>\n",
       "      <td>1920</td>\n",
       "      <td>7</td>\n",
       "      <td>10</td>\n",
       "      <td>1582</td>\n",
       "    </tr>\n",
       "    <tr>\n",
       "      <th>39</th>\n",
       "      <td>1920</td>\n",
       "      <td>7</td>\n",
       "      <td>11</td>\n",
       "      <td>1607</td>\n",
       "    </tr>\n",
       "    <tr>\n",
       "      <th>40</th>\n",
       "      <td>1920</td>\n",
       "      <td>7</td>\n",
       "      <td>12</td>\n",
       "      <td>1590</td>\n",
       "    </tr>\n",
       "    <tr>\n",
       "      <th>41</th>\n",
       "      <td>1920</td>\n",
       "      <td>7</td>\n",
       "      <td>13</td>\n",
       "      <td>1530</td>\n",
       "    </tr>\n",
       "    <tr>\n",
       "      <th>42</th>\n",
       "      <td>1920</td>\n",
       "      <td>7</td>\n",
       "      <td>14</td>\n",
       "      <td>1557</td>\n",
       "    </tr>\n",
       "    <tr>\n",
       "      <th>43</th>\n",
       "      <td>1920</td>\n",
       "      <td>7</td>\n",
       "      <td>15</td>\n",
       "      <td>1607</td>\n",
       "    </tr>\n",
       "    <tr>\n",
       "      <th>44</th>\n",
       "      <td>1920</td>\n",
       "      <td>7</td>\n",
       "      <td>16</td>\n",
       "      <td>1621</td>\n",
       "    </tr>\n",
       "    <tr>\n",
       "      <th>45</th>\n",
       "      <td>1920</td>\n",
       "      <td>7</td>\n",
       "      <td>17</td>\n",
       "      <td>1640</td>\n",
       "    </tr>\n",
       "    <tr>\n",
       "      <th>46</th>\n",
       "      <td>1920</td>\n",
       "      <td>7</td>\n",
       "      <td>18</td>\n",
       "      <td>1662</td>\n",
       "    </tr>\n",
       "    <tr>\n",
       "      <th>47</th>\n",
       "      <td>1920</td>\n",
       "      <td>7</td>\n",
       "      <td>19</td>\n",
       "      <td>1651</td>\n",
       "    </tr>\n",
       "    <tr>\n",
       "      <th>48</th>\n",
       "      <td>1920</td>\n",
       "      <td>7</td>\n",
       "      <td>20</td>\n",
       "      <td>1561</td>\n",
       "    </tr>\n",
       "    <tr>\n",
       "      <th>49</th>\n",
       "      <td>1920</td>\n",
       "      <td>7</td>\n",
       "      <td>21</td>\n",
       "      <td>1548</td>\n",
       "    </tr>\n",
       "  </tbody>\n",
       "</table>\n",
       "</div>"
      ],
      "text/plain": [
       "    Year  Month  Day    SL\n",
       "0   1920      6    2  1593\n",
       "1   1920      6    3  1605\n",
       "2   1920      6    4  1617\n",
       "3   1920      6    5  1779\n",
       "4   1920      6    6  1722\n",
       "5   1920      6    7  1594\n",
       "6   1920      6    8  1639\n",
       "7   1920      6    9  1699\n",
       "8   1920      6   10  1690\n",
       "9   1920      6   11  1622\n",
       "10  1920      6   12  1610\n",
       "11  1920      6   13  1690\n",
       "12  1920      6   14  1696\n",
       "13  1920      6   15  1665\n",
       "14  1920      6   16  1739\n",
       "15  1920      6   17  1887\n",
       "16  1920      6   18  1914\n",
       "17  1920      6   19  1773\n",
       "18  1920      6   20  1724\n",
       "19  1920      6   21  1786\n",
       "20  1920      6   22  1730\n",
       "21  1920      6   23  1672\n",
       "22  1920      6   24  1629\n",
       "23  1920      6   25  1606\n",
       "24  1920      6   26  1604\n",
       "25  1920      6   27  1602\n",
       "26  1920      6   28  1593\n",
       "27  1920      6   29  1631\n",
       "28  1920      6   30  1668\n",
       "29  1920      7    1  1668\n",
       "30  1920      7    2  1710\n",
       "31  1920      7    3  1798\n",
       "32  1920      7    4  1724\n",
       "33  1920      7    5  1574\n",
       "34  1920      7    6  1594\n",
       "35  1920      7    7  1662\n",
       "36  1920      7    8  1654\n",
       "37  1920      7    9  1585\n",
       "38  1920      7   10  1582\n",
       "39  1920      7   11  1607\n",
       "40  1920      7   12  1590\n",
       "41  1920      7   13  1530\n",
       "42  1920      7   14  1557\n",
       "43  1920      7   15  1607\n",
       "44  1920      7   16  1621\n",
       "45  1920      7   17  1640\n",
       "46  1920      7   18  1662\n",
       "47  1920      7   19  1651\n",
       "48  1920      7   20  1561\n",
       "49  1920      7   21  1548"
      ]
     },
     "execution_count": 65,
     "metadata": {},
     "output_type": "execute_result"
    }
   ],
   "source": [
    "# Local and web paths to the data; pick which works for you.\n",
    "filepath = \"sealevel_newyork.csv\"\n",
    "\n",
    "dfSL = pd.read_csv(filepath, header=None)\n",
    "dfSL.rename(columns={0 : 'Year', 1 : 'Month', 2 : 'Day', 3 : 'SL'}, inplace=True)\n",
    "dfSL.head(50)"
   ]
  },
  {
   "cell_type": "markdown",
   "metadata": {},
   "source": [
    "**Part A:**  Write a function `clean_data` to:\n",
    "1. take in a single argument of a raw sea level data frame (e.g., `dfSL` above),\n",
    "2. compute the fill-value used to replace missing sea level (SL) data (**not** hard-coded!),\n",
    "3. use the Pandas `DataFrame.dropna` method to remove all missing rows of data, \n",
    "4. select only the data point on the second day of each month, and\n",
    "4. return a cleaned Pandas data frame.\n",
    "\n",
    "Use your shiny new function to clean the `dfSL` data frame and save the results in a new data frame.\n",
    "\n",
    "There is a very specific reason to sample only one daily data point per month. We will talk about it later."
   ]
  },
  {
   "cell_type": "code",
   "execution_count": 66,
   "metadata": {},
   "outputs": [
    {
     "data": {
      "text/html": [
       "<div>\n",
       "<style scoped>\n",
       "    .dataframe tbody tr th:only-of-type {\n",
       "        vertical-align: middle;\n",
       "    }\n",
       "\n",
       "    .dataframe tbody tr th {\n",
       "        vertical-align: top;\n",
       "    }\n",
       "\n",
       "    .dataframe thead th {\n",
       "        text-align: right;\n",
       "    }\n",
       "</style>\n",
       "<table border=\"1\" class=\"dataframe\">\n",
       "  <thead>\n",
       "    <tr style=\"text-align: right;\">\n",
       "      <th></th>\n",
       "      <th>Year</th>\n",
       "      <th>Month</th>\n",
       "      <th>Day</th>\n",
       "      <th>SL</th>\n",
       "    </tr>\n",
       "  </thead>\n",
       "  <tbody>\n",
       "    <tr>\n",
       "      <th>0</th>\n",
       "      <td>1920</td>\n",
       "      <td>6</td>\n",
       "      <td>2</td>\n",
       "      <td>1593.0</td>\n",
       "    </tr>\n",
       "    <tr>\n",
       "      <th>30</th>\n",
       "      <td>1920</td>\n",
       "      <td>7</td>\n",
       "      <td>2</td>\n",
       "      <td>1710.0</td>\n",
       "    </tr>\n",
       "    <tr>\n",
       "      <th>61</th>\n",
       "      <td>1920</td>\n",
       "      <td>8</td>\n",
       "      <td>2</td>\n",
       "      <td>1662.0</td>\n",
       "    </tr>\n",
       "    <tr>\n",
       "      <th>92</th>\n",
       "      <td>1920</td>\n",
       "      <td>9</td>\n",
       "      <td>2</td>\n",
       "      <td>1585.0</td>\n",
       "    </tr>\n",
       "    <tr>\n",
       "      <th>122</th>\n",
       "      <td>1920</td>\n",
       "      <td>10</td>\n",
       "      <td>2</td>\n",
       "      <td>1521.0</td>\n",
       "    </tr>\n",
       "    <tr>\n",
       "      <th>153</th>\n",
       "      <td>1920</td>\n",
       "      <td>11</td>\n",
       "      <td>2</td>\n",
       "      <td>1704.0</td>\n",
       "    </tr>\n",
       "    <tr>\n",
       "      <th>183</th>\n",
       "      <td>1920</td>\n",
       "      <td>12</td>\n",
       "      <td>2</td>\n",
       "      <td>1398.0</td>\n",
       "    </tr>\n",
       "    <tr>\n",
       "      <th>214</th>\n",
       "      <td>1921</td>\n",
       "      <td>1</td>\n",
       "      <td>2</td>\n",
       "      <td>1686.0</td>\n",
       "    </tr>\n",
       "    <tr>\n",
       "      <th>245</th>\n",
       "      <td>1921</td>\n",
       "      <td>2</td>\n",
       "      <td>2</td>\n",
       "      <td>1530.0</td>\n",
       "    </tr>\n",
       "    <tr>\n",
       "      <th>273</th>\n",
       "      <td>1921</td>\n",
       "      <td>3</td>\n",
       "      <td>2</td>\n",
       "      <td>1541.0</td>\n",
       "    </tr>\n",
       "    <tr>\n",
       "      <th>304</th>\n",
       "      <td>1921</td>\n",
       "      <td>4</td>\n",
       "      <td>2</td>\n",
       "      <td>1589.0</td>\n",
       "    </tr>\n",
       "    <tr>\n",
       "      <th>334</th>\n",
       "      <td>1921</td>\n",
       "      <td>5</td>\n",
       "      <td>2</td>\n",
       "      <td>1944.0</td>\n",
       "    </tr>\n",
       "    <tr>\n",
       "      <th>365</th>\n",
       "      <td>1921</td>\n",
       "      <td>6</td>\n",
       "      <td>2</td>\n",
       "      <td>1568.0</td>\n",
       "    </tr>\n",
       "    <tr>\n",
       "      <th>395</th>\n",
       "      <td>1921</td>\n",
       "      <td>7</td>\n",
       "      <td>2</td>\n",
       "      <td>1716.0</td>\n",
       "    </tr>\n",
       "    <tr>\n",
       "      <th>426</th>\n",
       "      <td>1921</td>\n",
       "      <td>8</td>\n",
       "      <td>2</td>\n",
       "      <td>1559.0</td>\n",
       "    </tr>\n",
       "    <tr>\n",
       "      <th>457</th>\n",
       "      <td>1921</td>\n",
       "      <td>9</td>\n",
       "      <td>2</td>\n",
       "      <td>1644.0</td>\n",
       "    </tr>\n",
       "    <tr>\n",
       "      <th>487</th>\n",
       "      <td>1921</td>\n",
       "      <td>10</td>\n",
       "      <td>2</td>\n",
       "      <td>1597.0</td>\n",
       "    </tr>\n",
       "    <tr>\n",
       "      <th>518</th>\n",
       "      <td>1921</td>\n",
       "      <td>11</td>\n",
       "      <td>2</td>\n",
       "      <td>1922.0</td>\n",
       "    </tr>\n",
       "    <tr>\n",
       "      <th>2374</th>\n",
       "      <td>1926</td>\n",
       "      <td>12</td>\n",
       "      <td>2</td>\n",
       "      <td>1361.0</td>\n",
       "    </tr>\n",
       "    <tr>\n",
       "      <th>2405</th>\n",
       "      <td>1927</td>\n",
       "      <td>1</td>\n",
       "      <td>2</td>\n",
       "      <td>1542.0</td>\n",
       "    </tr>\n",
       "    <tr>\n",
       "      <th>2436</th>\n",
       "      <td>1927</td>\n",
       "      <td>2</td>\n",
       "      <td>2</td>\n",
       "      <td>1296.0</td>\n",
       "    </tr>\n",
       "    <tr>\n",
       "      <th>2464</th>\n",
       "      <td>1927</td>\n",
       "      <td>3</td>\n",
       "      <td>2</td>\n",
       "      <td>1569.0</td>\n",
       "    </tr>\n",
       "    <tr>\n",
       "      <th>2495</th>\n",
       "      <td>1927</td>\n",
       "      <td>4</td>\n",
       "      <td>2</td>\n",
       "      <td>1722.0</td>\n",
       "    </tr>\n",
       "    <tr>\n",
       "      <th>2525</th>\n",
       "      <td>1927</td>\n",
       "      <td>5</td>\n",
       "      <td>2</td>\n",
       "      <td>1605.0</td>\n",
       "    </tr>\n",
       "    <tr>\n",
       "      <th>2556</th>\n",
       "      <td>1927</td>\n",
       "      <td>6</td>\n",
       "      <td>2</td>\n",
       "      <td>1628.0</td>\n",
       "    </tr>\n",
       "    <tr>\n",
       "      <th>2648</th>\n",
       "      <td>1927</td>\n",
       "      <td>9</td>\n",
       "      <td>2</td>\n",
       "      <td>1662.0</td>\n",
       "    </tr>\n",
       "    <tr>\n",
       "      <th>2678</th>\n",
       "      <td>1927</td>\n",
       "      <td>10</td>\n",
       "      <td>2</td>\n",
       "      <td>1529.0</td>\n",
       "    </tr>\n",
       "    <tr>\n",
       "      <th>2709</th>\n",
       "      <td>1927</td>\n",
       "      <td>11</td>\n",
       "      <td>2</td>\n",
       "      <td>1618.0</td>\n",
       "    </tr>\n",
       "    <tr>\n",
       "      <th>2739</th>\n",
       "      <td>1927</td>\n",
       "      <td>12</td>\n",
       "      <td>2</td>\n",
       "      <td>1614.0</td>\n",
       "    </tr>\n",
       "    <tr>\n",
       "      <th>2770</th>\n",
       "      <td>1928</td>\n",
       "      <td>1</td>\n",
       "      <td>2</td>\n",
       "      <td>1181.0</td>\n",
       "    </tr>\n",
       "    <tr>\n",
       "      <th>2801</th>\n",
       "      <td>1928</td>\n",
       "      <td>2</td>\n",
       "      <td>2</td>\n",
       "      <td>1236.0</td>\n",
       "    </tr>\n",
       "    <tr>\n",
       "      <th>2830</th>\n",
       "      <td>1928</td>\n",
       "      <td>3</td>\n",
       "      <td>2</td>\n",
       "      <td>1333.0</td>\n",
       "    </tr>\n",
       "    <tr>\n",
       "      <th>2861</th>\n",
       "      <td>1928</td>\n",
       "      <td>4</td>\n",
       "      <td>2</td>\n",
       "      <td>1471.0</td>\n",
       "    </tr>\n",
       "    <tr>\n",
       "      <th>2891</th>\n",
       "      <td>1928</td>\n",
       "      <td>5</td>\n",
       "      <td>2</td>\n",
       "      <td>1481.0</td>\n",
       "    </tr>\n",
       "    <tr>\n",
       "      <th>2922</th>\n",
       "      <td>1928</td>\n",
       "      <td>6</td>\n",
       "      <td>2</td>\n",
       "      <td>1543.0</td>\n",
       "    </tr>\n",
       "    <tr>\n",
       "      <th>2952</th>\n",
       "      <td>1928</td>\n",
       "      <td>7</td>\n",
       "      <td>2</td>\n",
       "      <td>1627.0</td>\n",
       "    </tr>\n",
       "    <tr>\n",
       "      <th>2983</th>\n",
       "      <td>1928</td>\n",
       "      <td>8</td>\n",
       "      <td>2</td>\n",
       "      <td>1546.0</td>\n",
       "    </tr>\n",
       "    <tr>\n",
       "      <th>3014</th>\n",
       "      <td>1928</td>\n",
       "      <td>9</td>\n",
       "      <td>2</td>\n",
       "      <td>1656.0</td>\n",
       "    </tr>\n",
       "    <tr>\n",
       "      <th>3044</th>\n",
       "      <td>1928</td>\n",
       "      <td>10</td>\n",
       "      <td>2</td>\n",
       "      <td>1728.0</td>\n",
       "    </tr>\n",
       "    <tr>\n",
       "      <th>3075</th>\n",
       "      <td>1928</td>\n",
       "      <td>11</td>\n",
       "      <td>2</td>\n",
       "      <td>1522.0</td>\n",
       "    </tr>\n",
       "    <tr>\n",
       "      <th>3105</th>\n",
       "      <td>1928</td>\n",
       "      <td>12</td>\n",
       "      <td>2</td>\n",
       "      <td>1465.0</td>\n",
       "    </tr>\n",
       "    <tr>\n",
       "      <th>3136</th>\n",
       "      <td>1929</td>\n",
       "      <td>1</td>\n",
       "      <td>2</td>\n",
       "      <td>1365.0</td>\n",
       "    </tr>\n",
       "    <tr>\n",
       "      <th>3167</th>\n",
       "      <td>1929</td>\n",
       "      <td>2</td>\n",
       "      <td>2</td>\n",
       "      <td>1388.0</td>\n",
       "    </tr>\n",
       "    <tr>\n",
       "      <th>3195</th>\n",
       "      <td>1929</td>\n",
       "      <td>3</td>\n",
       "      <td>2</td>\n",
       "      <td>1623.0</td>\n",
       "    </tr>\n",
       "    <tr>\n",
       "      <th>3226</th>\n",
       "      <td>1929</td>\n",
       "      <td>4</td>\n",
       "      <td>2</td>\n",
       "      <td>1207.0</td>\n",
       "    </tr>\n",
       "    <tr>\n",
       "      <th>3256</th>\n",
       "      <td>1929</td>\n",
       "      <td>5</td>\n",
       "      <td>2</td>\n",
       "      <td>1757.0</td>\n",
       "    </tr>\n",
       "    <tr>\n",
       "      <th>3287</th>\n",
       "      <td>1929</td>\n",
       "      <td>6</td>\n",
       "      <td>2</td>\n",
       "      <td>1636.0</td>\n",
       "    </tr>\n",
       "    <tr>\n",
       "      <th>3317</th>\n",
       "      <td>1929</td>\n",
       "      <td>7</td>\n",
       "      <td>2</td>\n",
       "      <td>1625.0</td>\n",
       "    </tr>\n",
       "    <tr>\n",
       "      <th>3348</th>\n",
       "      <td>1929</td>\n",
       "      <td>8</td>\n",
       "      <td>2</td>\n",
       "      <td>1627.0</td>\n",
       "    </tr>\n",
       "    <tr>\n",
       "      <th>3379</th>\n",
       "      <td>1929</td>\n",
       "      <td>9</td>\n",
       "      <td>2</td>\n",
       "      <td>1535.0</td>\n",
       "    </tr>\n",
       "  </tbody>\n",
       "</table>\n",
       "</div>"
      ],
      "text/plain": [
       "      Year  Month  Day      SL\n",
       "0     1920      6    2  1593.0\n",
       "30    1920      7    2  1710.0\n",
       "61    1920      8    2  1662.0\n",
       "92    1920      9    2  1585.0\n",
       "122   1920     10    2  1521.0\n",
       "153   1920     11    2  1704.0\n",
       "183   1920     12    2  1398.0\n",
       "214   1921      1    2  1686.0\n",
       "245   1921      2    2  1530.0\n",
       "273   1921      3    2  1541.0\n",
       "304   1921      4    2  1589.0\n",
       "334   1921      5    2  1944.0\n",
       "365   1921      6    2  1568.0\n",
       "395   1921      7    2  1716.0\n",
       "426   1921      8    2  1559.0\n",
       "457   1921      9    2  1644.0\n",
       "487   1921     10    2  1597.0\n",
       "518   1921     11    2  1922.0\n",
       "2374  1926     12    2  1361.0\n",
       "2405  1927      1    2  1542.0\n",
       "2436  1927      2    2  1296.0\n",
       "2464  1927      3    2  1569.0\n",
       "2495  1927      4    2  1722.0\n",
       "2525  1927      5    2  1605.0\n",
       "2556  1927      6    2  1628.0\n",
       "2648  1927      9    2  1662.0\n",
       "2678  1927     10    2  1529.0\n",
       "2709  1927     11    2  1618.0\n",
       "2739  1927     12    2  1614.0\n",
       "2770  1928      1    2  1181.0\n",
       "2801  1928      2    2  1236.0\n",
       "2830  1928      3    2  1333.0\n",
       "2861  1928      4    2  1471.0\n",
       "2891  1928      5    2  1481.0\n",
       "2922  1928      6    2  1543.0\n",
       "2952  1928      7    2  1627.0\n",
       "2983  1928      8    2  1546.0\n",
       "3014  1928      9    2  1656.0\n",
       "3044  1928     10    2  1728.0\n",
       "3075  1928     11    2  1522.0\n",
       "3105  1928     12    2  1465.0\n",
       "3136  1929      1    2  1365.0\n",
       "3167  1929      2    2  1388.0\n",
       "3195  1929      3    2  1623.0\n",
       "3226  1929      4    2  1207.0\n",
       "3256  1929      5    2  1757.0\n",
       "3287  1929      6    2  1636.0\n",
       "3317  1929      7    2  1625.0\n",
       "3348  1929      8    2  1627.0\n",
       "3379  1929      9    2  1535.0"
      ]
     },
     "execution_count": 66,
     "metadata": {},
     "output_type": "execute_result"
    }
   ],
   "source": [
    "def clean_data(df): # takes in a dataframe\n",
    "    dfClean = df # Load df into dfClean\n",
    "    \n",
    "    fill = dfClean.loc[dfClean[\"SL\"] < -5000, \"SL\"].median() # loc takes in (row, column) to get all the low vals\n",
    "    \n",
    "    dfClean.loc[dfClean[\"SL\"] == fill, \"SL\"] = np.nan # All the missing data replaced with nan\n",
    "    \n",
    "    dfClean.dropna(subset = [\"SL\"], inplace = True) # This drops missing Sea Level data\n",
    "    \n",
    "    secDay = dfClean.index[dfClean[\"Day\"] == 2]# Second day of each month to be returned\n",
    "    dfClean = dfClean.loc[secDay, :]\n",
    "    \n",
    "    return dfClean\n",
    "\n",
    "dfClean = clean_data(dfSL)\n",
    "dfClean.head(50)"
   ]
  },
  {
   "cell_type": "code",
   "execution_count": 67,
   "metadata": {},
   "outputs": [
    {
     "data": {
      "text/plain": [
       "1003"
      ]
     },
     "execution_count": 67,
     "metadata": {},
     "output_type": "execute_result"
    }
   ],
   "source": [
    "len(dfClean)"
   ]
  },
  {
   "cell_type": "markdown",
   "metadata": {},
   "source": [
    "**Part B:**  Plot the cleaned time series of sea levels. Be sure to label your axes, including units. The UHSLC data portal includes a link to the metadata accompanying our data set; if you are not sure about units, that would be a good place to start looking. For the $x$-axis, place the $x$ tick marks on January 1 of each year that is divisible by 10 (i.e., 1920, 1930, ...), and label with that year. You may need to do additional processing in order to grab these indices. \n"
   ]
  },
  {
   "cell_type": "code",
   "execution_count": 68,
   "metadata": {},
   "outputs": [
    {
     "data": {
      "image/png": "[encoded data removed]",
      "text/plain": [
       "<Figure size 576x288 with 1 Axes>"
      ]
     },
     "metadata": {},
     "output_type": "display_data"
    }
   ],
   "source": [
    "ind_labels = dfClean.index[(dfClean[\"Month\"] == 1) & (dfClean[\"Day\"] == 2) & (dfClean[\"Year\"] % 10 == 0)] # mod 10 to get all the 10 mult years\n",
    "\n",
    "fig, ax = plt.subplots(nrows=1, ncols=1, figsize=(8,4))\n",
    "dfClean[\"SL\"].plot()\n",
    "ax.set_xticks(ind_labels)\n",
    "ax.set_xticklabels(dfClean.loc[ind_labels, \"Year\"])\n",
    "ax.set_xlabel('Year')\n",
    "ax.set_ylabel('Sea level mm')\n",
    "ax.set_title('Year vs. Sea Level in NYC');"
   ]
  },
  {
   "cell_type": "markdown",
   "metadata": {},
   "source": [
    "**Part C:** Use your cleaned sea levels data frame to create two new Pandas data frames or series:\n",
    "1. one object to contain the sea levels between (and including) the years 1986 and 1995, and\n",
    "2. another object to contain the sea levels between (and including) the years 2006 and 2015.\n",
    "\n",
    "Then, create a single-panel figure that includes density histograms of each of the two decades of sea levels. Be sure to label everything appropriately.\n",
    "\n",
    "Finally, based on the data in front of you, formulate and state a hypothesis about how the mean sea level in the decade 2006-2015 compares to the mean sea level in the decade 1986-1995."
   ]
  },
  {
   "cell_type": "code",
   "execution_count": 69,
   "metadata": {},
   "outputs": [
    {
     "data": {
      "image/png": "[encoded data removed]",
      "text/plain": [
       "<Figure size 576x288 with 1 Axes>"
      ]
     },
     "metadata": {},
     "output_type": "display_data"
    }
   ],
   "source": [
    "fig1 = 1986\n",
    "leng = 10\n",
    "dfPrev = dfClean.copy()\n",
    "dfPrev = dfPrev.loc[(dfPrev[\"Year\"] > fig1) & (dfPrev[\"Year\"] <= (fig1 + leng)), \"SL\"]\n",
    "\n",
    "fig2 = 2006\n",
    "leng2 = 10\n",
    "dfNow = dfClean.copy()\n",
    "dfNow = dfNow.loc[(dfNow[\"Year\"] > fig2) & (dfNow[\"Year\"] <= (fig2 + leng2)), \"SL\"]\n",
    "\n",
    "fig, ax = plt.subplots(nrows=1, ncols=1, figsize=(8,4))\n",
    "dfNow.hist(alpha=0.5, edgecolor=\"black\", label=\"2006-2015\", density=True)\n",
    "dfThen.hist(alpha=0.5, edgecolor=\"black\", label=\"1986-1995\", density=True)\n",
    "ax.set_xlabel('Sea level mm')\n",
    "ax.set_ylabel('Density')\n",
    "ax.grid(alpha=0.5)\n",
    "ax.set_axisbelow(True)\n",
    "plt.legend()\n",
    "plt.show()"
   ]
  },
  {
   "cell_type": "markdown",
   "metadata": {},
   "source": [
    "The mean sea level in the decade 2006-2015 is apparently higher than the mean sea level in the decade 1986-1995"
   ]
  },
  {
   "cell_type": "code",
   "execution_count": null,
   "metadata": {},
   "outputs": [],
   "source": []
  },
  {
   "cell_type": "code",
   "execution_count": null,
   "metadata": {},
   "outputs": [],
   "source": []
  },
  {
   "cell_type": "code",
   "execution_count": null,
   "metadata": {},
   "outputs": [],
   "source": []
  },
  {
   "cell_type": "markdown",
   "metadata": {},
   "source": [
    "**Part D:** Compute a 99.9% confidence interval for each of (1) the mean sea level in the 1986-1995 decade ($\\mu_{1986-1995}$) and (2) the mean sea level in the 2006-2015 decade ($\\mu_{2006-2015}$).  You may use Python for arithmetic operations and executing the calculations, but the relevant steps/set-up should be displayed in Markdown/MathJax.\n",
    "\n",
    "Based on these two confidence intervals, do you think there is sufficient evidence to conclude that there is or is not a significant difference in the mean sea level between 1986-1995 and 2006-2015? Justify your answer. "
   ]
  },
  {
   "cell_type": "code",
   "execution_count": 70,
   "metadata": {},
   "outputs": [
    {
     "data": {
      "text/plain": [
       "3.2905267314919255"
      ]
     },
     "execution_count": 70,
     "metadata": {},
     "output_type": "execute_result"
    }
   ],
   "source": [
    "stats.norm.ppf(1 - .001/2)"
   ]
  },
  {
   "cell_type": "code",
   "execution_count": 71,
   "metadata": {},
   "outputs": [
    {
     "name": "stdout",
     "output_type": "stream",
     "text": [
      "142.5890052887099\n",
      "73\n",
      "1761.7123287671234\n",
      "54.91487919542178\n",
      "This is for the previous dataframe\n"
     ]
    }
   ],
   "source": [
    "print(np.sqrt(dfThen.var(ddof = 1)))\n",
    "print(dfPrev.count())\n",
    "print(dfPrev.mean())\n",
    "print(stats.norm.ppf(1-.001/2) * dfPrev.std(ddof = 1)/np.sqrt(dfPrev.count()))\n",
    "\n",
    "print(\"This is for the previous dataframe\")"
   ]
  },
  {
   "cell_type": "code",
   "execution_count": 72,
   "metadata": {},
   "outputs": [
    {
     "name": "stdout",
     "output_type": "stream",
     "text": [
      "139.7626436807327\n",
      "120\n",
      "1873.4916666666666\n",
      "41.98226901501079\n",
      "This is for the new dataframe\n"
     ]
    }
   ],
   "source": [
    "print(np.sqrt(dfNow.var(ddof=1)))\n",
    "print(dfNow.count())\n",
    "print(dfNow.mean())\n",
    "print(stats.norm.ppf(1-.001/2)*dfNow.std(ddof=1)/np.sqrt(dfNow.count()))\n",
    "\n",
    "print(\"This is for the new dataframe\")"
   ]
  },
  {
   "cell_type": "markdown",
   "metadata": {},
   "source": [
    "\\begin{align}\n",
    "CI_{prev}  &= \\bar{x}_{1986} \\pm z_{0.001/2} \\dfrac{s_{1986}}{\\sqrt{n_{1986}}} \\\\\n",
    "    &= 1761.712 \\pm 3.291 \\dfrac{142.589}{\\sqrt{73}} \\\\\n",
    "    &= 1761.712 \\pm 54.914 \\\\\n",
    "    &= [1706.798, 1816.626]\n",
    "\\end{align}"
   ]
  },
  {
   "cell_type": "markdown",
   "metadata": {},
   "source": [
    "\\begin{align}\n",
    "  CI_{now} &= \\bar{x}_{2006} \\pm z_{0.001/2} \\dfrac{s_{2006}}{\\sqrt{n_{2006}}} \\\\\n",
    "     &= 1873.492 \\pm 3.291 \\dfrac{139.762}{\\sqrt{120}} \\\\\n",
    "     &= 1873.492 \\pm 41.982 \\\\\n",
    "     &= [1831.51, 1915.474]\n",
    "\\end{align}"
   ]
  },
  {
   "cell_type": "markdown",
   "metadata": {},
   "source": [
    "##### Given that we know $\\alpha$ to be .001, we get the above utilizing the $\\mu$ and CI equations\n",
    "\n",
    "Conclusion: We might be able to say there is sufficient evidence that there is a significatn difference in sea level between the two time frames."
   ]
  },
  {
   "cell_type": "markdown",
   "metadata": {},
   "source": [
    "**Part E:**  Compute a 99.9% confidence interval for the ***difference in mean sea level*** between the 2006-2015 and the 1986-1995 decades ($\\mu_{2006-2015} - \\mu_{1986-1995}$. Based on this, make a conclusion regarding your hypothesis from **Part C**, and compare to what your results in **Part D** implied. You may use Python for arithmetic operations and executing the calculations, but the relevant steps/set-up should be displayed in Markdown/MathJax."
   ]
  },
  {
   "cell_type": "markdown",
   "metadata": {},
   "source": [
    "\\begin{align}\n",
    "  CI &= \\bar{x}_{2006} - \\bar{x}_{1986} \\pm z_{0.001/2} \\sqrt{\\dfrac{s_{2006}^2}{n_{2006}} + \\dfrac{s_{1986}^2}{n_{1986}}} \\\\\n",
    "     &=  1873.492 - 1761.712 \\pm 3.291 \\sqrt{\\dfrac{142.589^2}{73} + \\dfrac{139.762^2}{120}} \\\\\n",
    "     &= 111.78 \\pm 69.134 \\\\\n",
    "     &= [42.646, 180.914]\n",
    "\\end{align}"
   ]
  },
  {
   "cell_type": "code",
   "execution_count": 108,
   "metadata": {},
   "outputs": [
    {
     "name": "stdout",
     "output_type": "stream",
     "text": [
      "CI = [42.655, 180.904]\n"
     ]
    }
   ],
   "source": [
    "alp = 0.001\n",
    "zcrit = stats.norm.ppf(1-alp/2)\n",
    "\n",
    "SE_diff = np.sqrt((dfNow.var(ddof=1)/dfNow.count()) + (dfThen.var(ddof=1)/dfThen.count()))\n",
    "xbar = dfNow.mean()-dfThen.mean()\n",
    "lb = xbar - zcrit*SE_diff\n",
    "ub = xbar + zcrit*SE_diff\n",
    "print(\"CI = [{:.3f}, {:.3f}]\".format(lb,ub)) # To three decimal places"
   ]
  },
  {
   "cell_type": "markdown",
   "metadata": {},
   "source": [
    "This is our confidence interval for the difference in mean sea level between the two time frames"
   ]
  },
  {
   "cell_type": "markdown",
   "metadata": {},
   "source": [
    "**Part F:**  The confidence intervals from **Parts D** and **E** were derived using the Central Limit Theorem.  Which assumption of the Central Limit Theorem would likely be violated if we took more than one measurement per month to form our samples, and why?"
   ]
  },
  {
   "cell_type": "markdown",
   "metadata": {},
   "source": [
    "Monthly sea level at different times of the year are likely to vary and not be in an ideal normal distribution which would volate the assumption that our data at the very least resembles a normal distribution, and it is possible that if we got more samples at certain times of the year, it would start to move away from resembling a normal distribution."
   ]
  },
  {
   "cell_type": "markdown",
   "metadata": {},
   "source": [
    "---\n",
    "\n",
    "<a id='p2'></a>\n",
    "[Back to top](#top)\n",
    "\n",
    "### [25 points] Problem 2 - Waiting for the Bus\n",
    "\n",
    "You are waiting for the bus, and are rather impatient.\n",
    "Your friend tells you that busses arrive according to an exponential distribution with parameter $\\lambda=1/10$ (busses/min) for a *mean* waiting time of 10 minutes.  You've been waiting for a while, and want to prove their hypothesis wrong: you're thinking the wait is longer than that (one-tailed).\n",
    "\t\t\n",
    "(Note: You may use the approximation $e^3\\approx20$ when applicable on this problem.  You may do calculations in Python if you wish, but all exposition should be in markdown.)\n",
    "\n",
    "**Part A:** State the null and alternative hypotheses being tested."
   ]
  },
  {
   "cell_type": "markdown",
   "metadata": {},
   "source": [
    "We want to test whether it takes 10 minutes for the bus to arrive(Null Hypothesis) or longer than 10 minutes(Alternative)"
   ]
  },
  {
   "cell_type": "markdown",
   "metadata": {},
   "source": [
    "**Part B:** Devise a test of the form \"reject if $X>c$\" where $c$ is how long you have to wait until the bus arrives.  Use a significance of $\\alpha= .05$.  How long do you wait before you reject the null hypothesis with a probability of type I error of 5%?"
   ]
  },
  {
   "cell_type": "code",
   "execution_count": null,
   "metadata": {},
   "outputs": [],
   "source": []
  },
  {
   "cell_type": "markdown",
   "metadata": {},
   "source": []
  },
  {
   "cell_type": "markdown",
   "metadata": {},
   "source": [
    "**Part C:** What is the power of your test if the true rate is $\\lambda=1/60$?  (NB: **Power** is defined as the complement of making a Type II Error: it's the rate at which you correctly reject a false null hypothesis)"
   ]
  },
  {
   "cell_type": "markdown",
   "metadata": {},
   "source": [
    "Given the following Null and Alternative Hypothesis: \n",
    "\\begin{align}\n",
    "H_0 : X \\gt c \\\\\n",
    "H_1 : X \\leq c \\\\\n",
    "\\text{Power of our test:} \\\\\n",
    "\\end{align}"
   ]
  },
  {
   "cell_type": "markdown",
   "metadata": {},
   "source": []
  },
  {
   "cell_type": "markdown",
   "metadata": {},
   "source": [
    "**Part D:** It turns out neither the null nor alternative are correct!  The *true* distribution of busses was a continuous uniform distribution with pdf\n",
    "$$f(x)=\\begin{cases}\n",
    "\t\t\\frac{1}{60} & 0<x<60 \\, min\\\\\n",
    "\t\t0 & else\n",
    "\t\t\\end{cases}$$\n",
    "\t\t\n",
    "What is the probability that you reject the null hypothesis?  What's different about this and how we've been discussing power/Type II error rates?"
   ]
  },
  {
   "cell_type": "code",
   "execution_count": null,
   "metadata": {},
   "outputs": [],
   "source": []
  },
  {
   "cell_type": "markdown",
   "metadata": {},
   "source": []
  },
  {
   "cell_type": "markdown",
   "metadata": {},
   "source": [
    "---\n",
    "\n",
    "<a id='p3'></a>\n",
    "[Back to top](#top)\n",
    "\n",
    "### [30 points] Problem 3 - Exploring Confidence Intervals \n",
    "\n",
    "The [Gumbel](https://en.wikipedia.org/wiki/Gumbel_distribution) distribution is one of several distributions frequently used to model environmental extremes (for example, extreme temperatures and sea levels).  It is also fairly asymmetric, and thus interesting for investigating confidence intervals.  It is implemented in scipy.stats as [gumbel_r](https://docs.scipy.org/doc/scipy/reference/generated/scipy.stats.gumbel_r.html), where the appendix \"\\_r\" denotes the right-skewed version of the Gumbel distribution (as opposed to the left-skewed)."
   ]
  },
  {
   "cell_type": "markdown",
   "metadata": {},
   "source": [
    "**Part A**: Complete the following code cell to plot a histogram of 100 realizations from the Gumbel distribution with parameters $\\mu=12$ and $\\beta=3$.  Be sure to leave this cell executed before turning in your assignment! Make your histogram grey with gold edges."
   ]
  },
  {
   "cell_type": "code",
   "execution_count": 77,
   "metadata": {
    "scrolled": true
   },
   "outputs": [
    {
     "data": {
      "image/png": "[encoded data removed]",
      "text/plain": [
       "<Figure size 864x576 with 1 Axes>"
      ]
     },
     "metadata": {},
     "output_type": "display_data"
    }
   ],
   "source": [
    "mu = 12\n",
    "beta = 3\n",
    "n_sample = 100\n",
    "x = stats.gumbel_r.rvs(loc=mu, scale=beta, size=n_sample)\n",
    "\n",
    "fig, ax = plt.subplots(nrows=1, ncols=1, figsize=(12,8))\n",
    "plt.hist(x, color=\"grey\",edgecolor=\"gold\", bins=20, density=True)\n",
    "ax.grid(alpha=0.25)\n",
    "ax.set_axisbelow(True)\n",
    "ax.set_xlabel('X')\n",
    "ax.set_ylabel('Density')\n",
    "ax.set_title(r'Gumbel($\\mu=${}, $\\beta=${})'.format(mu,beta))\n",
    "plt.xlim([0,35])\n",
    "plt.show()"
   ]
  },
  {
   "cell_type": "markdown",
   "metadata": {},
   "source": [
    "**Part B:** Look up the analytical mean and variance of the Gumbel distribution with parameters $\\mu=12$ and $\\beta=3$ and calculate them here by hand.  Note that the Euler–Mascheroni constant can be accessed via `np.euler_gamma`. \n",
    "\n",
    "Use the empirical mean from your sample in **Part A**, and the true variance of the Gumbel distribution to compute by hand a 99% confidence interval for the mean."
   ]
  },
  {
   "cell_type": "code",
   "execution_count": 78,
   "metadata": {},
   "outputs": [
    {
     "name": "stdout",
     "output_type": "stream",
     "text": [
      "E-M constant = 0.5772156649015329\n"
     ]
    }
   ],
   "source": [
    "print (\"E-M constant = {}\".format(np.euler_gamma)"
   ]
  },
  {
   "cell_type": "markdown",
   "metadata": {},
   "source": [
    "\\begin{align}\n",
    "\\text{Given distribution} \\\\\n",
    "Gum(\\mu=12, \\beta=3) \\\\\n",
    "E[X] = \\mu+\\beta \\gamma = 12+3\\cdot 0.5772 = 9.154 \\\\\n",
    "\\textrm{Var}(X) = \\dfrac{\\pi^2}{9}\\beta^2 = \\dfrac{\\pi^2}{9}(3^2) = 9.87 \\\\\n",
    "\\end{align}"
   ]
  },
  {
   "cell_type": "markdown",
   "metadata": {},
   "source": [
    "### **Part C:  A theoretical interlude.** When Stella O'Flaherty (the famous octopus) ran her solution code for **Part B**, she obtained a 99% confidence interval of $[12.73,  14.72]$ for the mean of the $Gum(\\mu=12, \\beta=3)$ distribution. For each of the following, explain why or why not the situation described is correct, given the technical definition of a 99% confidence interval we went over in class.\n",
    "\n",
    "**(i)** If you had no other evidence regarding true mean of the $Gum(\\mu=12, \\beta=3)$ distribution, you could say there is a 99% chance that its true mean falls between 12.73 and 14.72.\n",
    "\n",
    "**(ii)** If a class of 100 students all construct 99% confidence intervals for the mean of the $Gum(\\mu=12, \\beta=3)$ distribution, then we expect about 99 of their CIs to contain the true mean, and about 1 of them to miss the true mean.\n",
    "\n",
    "**(iii)** There is a 99% probability that any given random variable sampled from $Gum(\\mu=12, \\beta=3)$ will be between 12.73 and 14.72."
   ]
  },
  {
   "cell_type": "markdown",
   "metadata": {},
   "source": [
    "(i) INCORRECT - It is not correct to make any claims about this particular interval\n",
    "\n",
    "(ii) CORRECT - We can say that it is fair to expect this interval to contain the mean 99% of the time\n",
    "\n",
    "(iii) INCORRECT - Confidence intervals have to do with the mean and not random variables sampled"
   ]
  },
  {
   "cell_type": "markdown",
   "metadata": {},
   "source": [
    "**Part D:** In this part you'll write a function to investigate the _coverage properties_ of a confidence interval for the mean of the Gumbel distribution. Complete the following function to randomly sample $m=500$ sample means with sample size $n=100$ for the Gumbel distribution with parameters $\\mu=12$ and $\\beta=3$.  For each random sample, compute the 75% confidence interval for the mean. Note that you actually know that the variance for the true population distribution is, $\\sigma^2$.  Your function should do two things: \n",
    "\n",
    "1. Report the proportion of confidence intervals that successfully cover the true mean of the distribution \n",
    "2. Make a plot of 50 randomly selected confidence intervals. Overlay the intervals on the line $y=\\textrm{True mean}$ (from **Part B**). Color confidence intervals black if they cover the true mean, and red if they don't.  \n",
    "\n",
    "Be sure to leave this cell executed before turning in your assignment!"
   ]
  },
  {
   "cell_type": "code",
   "execution_count": 84,
   "metadata": {},
   "outputs": [
    {
     "name": "stdout",
     "output_type": "stream",
     "text": [
      "proportion that covers mean: 0.668\n"
     ]
    },
    {
     "data": {
      "image/png": "[encoded data removed]",
      "text/plain": [
       "<Figure size 1080x432 with 1 Axes>"
      ]
     },
     "metadata": {},
     "output_type": "display_data"
    }
   ],
   "source": [
    "def confidence_intervals(m=500, n=100):\n",
    "    mu = 12\n",
    "    beta = 3\n",
    "    \n",
    "    tot = mu + beta * np.euler_gamma\n",
    "    VX = (np.pi*beta)**2/9\n",
    "    CIs = np.zeros((m,2))\n",
    "    zcrit = stats.norm.ppf(1-(1-0.75)/2)\n",
    "    SE = np.sqrt(VX/n)\n",
    "    ctr = 0\n",
    "    \n",
    "    for i in range(m):\n",
    "        x = stats.gumbel_r.rvs(loc=mu, scale=beta, size=n)\n",
    "        xbar = np.mean(x) \n",
    "        L, U = xbar - zcrit*SE, xbar + zcrit*SE\n",
    "        CIs[i,0] = L \n",
    "        CIs[i,1] = U \n",
    "        ctr += 1 if (L <= tot) and (tot <= U) else 0 \n",
    "        \n",
    "    print(\"proportion that covers mean: {:.3f}\".format(ctr/m))\n",
    "    \n",
    "    fig, ax = plt.subplots(nrows=1, ncols=1, figsize=(15,6))\n",
    "    for ii, row in enumerate(np.random.choice(range(m), size=50, replace=False)):\n",
    "        L, U = CIs[row,:]\n",
    "        color = \"black\" if (L <= tot) and (tot <= U) else \"red\" \n",
    "        plt.plot([ii+1, ii+1], [U, L], color=color)\n",
    "        plt.scatter([ii+1], (U+L)/2, s=25, color=\"k\")\n",
    "    plt.plot([0, 51], [tot, tot], color=\"gray\", ls=\"--\")\n",
    "    ax.grid(alpha=0.25)\n",
    "    \n",
    "confidence_intervals()"
   ]
  },
  {
   "cell_type": "markdown",
   "metadata": {},
   "source": [
    "**Part E:** Does the proportion of confidence intervals that cover the true mean of the distribution agree with the theory described in class?  Justify your conclusion. "
   ]
  },
  {
   "cell_type": "markdown",
   "metadata": {},
   "source": [
    "Our results show that the proportion covers the mean 66.8% of the time when we should need 75%, so these two do not agree."
   ]
  },
  {
   "cell_type": "markdown",
   "metadata": {},
   "source": [
    "---\n",
    "\n",
    "<a id='p4'></a>\n",
    "[Back to top](#top)\n",
    "\n",
    "### [15 points] Problem 4 - Freethrow Throwbacks\n",
    "***\n",
    "\n",
    "Keep your skills sharp by answering these straightforward questions."
   ]
  },
  {
   "cell_type": "markdown",
   "metadata": {},
   "source": [
    "**Part A**: <font color='green'>Your Michael Jordan in his prime...It's the sixth game of the 1998 NBA Finals and Byron Russel fouls you, but when you step up to take the freethrow, your transported to a CSCI 3022 classroom. Solve the following to \"make\" the freethrow:</font>\n",
    "\n",
    "You have a shuffled deck of cards. It includes the usual 52 cards and 2 Jokers. You flip over the cards one by one, without replacing them in the deck. You count how many cards you'll have to flip until you flip four of the following five cards: the six of hearts, the eight of diamonds, the king of clubs, and both of the jokers.  You repeat this many times. \n",
    "\n",
    "Simulate this process at least 25000 times. Plot a histogram with binsize=1 of the outcomes, in lightgrey with white outline. Compute the mean, median, and mode for this dataset, indicate them on the plot using a line, with linstyles of green dashed, red dotted, and black solid, respectively. Use a legend to label your histogram (of the distribution of flips), mean, median. Does this data look positively or negatively skewed? Explain below in a markdown cell, talk about the mean, median, and the shape of the histogram in your answer."
   ]
  },
  {
   "cell_type": "code",
   "execution_count": 96,
   "metadata": {},
   "outputs": [
    {
     "name": "stdout",
     "output_type": "stream",
     "text": [
      "Mean: 35.781\n",
      "Median: 38.0\n",
      "Mode: 53\n"
     ]
    }
   ],
   "source": [
    "def cardSim(n_trials = 25000):\n",
    "    results = np.zeros(n_trials, dtype=int)\n",
    "    for i in range(n_trials):\n",
    "        \n",
    "        deck = np.array([0]*52 + [1]*2) # This is for 52 standard cards and the 2 special Jokers respectively\n",
    "        np.random.shuffle(deck)\n",
    "        joker = deck == 1 # assign each type of card\n",
    "        card = deck == 0\n",
    "        results[i] = np.where(np.cumsum(joker) == 2)[0][0] #and np.where(np.cumsum(card) == 3)[0][0]\n",
    "        \n",
    "        \n",
    "    return results\n",
    "\n",
    "x = cardSim()\n",
    "print(\"Mean: {:.3f}\".format(np.mean(x)))\n",
    "print(\"Median: {}\".format(np.median(x)))\n",
    "print(\"Mode: {}\".format(stats.mode(x,axis=None).mode[0]))"
   ]
  },
  {
   "cell_type": "code",
   "execution_count": 97,
   "metadata": {},
   "outputs": [
    {
     "name": "stderr",
     "output_type": "stream",
     "text": [
      "C:\\Users\\Elijah Berumen\\Anaconda3\\lib\\site-packages\\matplotlib\\axes\\_axes.py:6462: UserWarning: The 'normed' kwarg is deprecated, and has been replaced by the 'density' kwarg.\n",
      "  warnings.warn(\"The 'normed' kwarg is deprecated, and has been \"\n"
     ]
    },
    {
     "data": {
      "text/plain": [
       "<matplotlib.legend.Legend at 0x27746735320>"
      ]
     },
     "execution_count": 97,
     "metadata": {},
     "output_type": "execute_result"
    },
    {
     "data": {
      "image/png": "[encoded data removed]",
      "text/plain": [
       "<Figure size 864x432 with 1 Axes>"
      ]
     },
     "metadata": {},
     "output_type": "display_data"
    }
   ],
   "source": [
    "fig, ax = plt.subplots(nrows=1, ncols=1, figsize=(12,6))\n",
    "pd.Series(x).hist(ax=ax, color=\"lightgrey\", edgecolor=\"white\", bins=np.arange(55), normed=True,label=\"distribution\")\n",
    "ax.grid(alpha=0.25)\n",
    "ax.set_axisbelow(True)\n",
    "yl = ax.get_ylim()\n",
    "ax.plot(np.mean(x)*np.ones(2),yl,'--',c='g',zorder=2,lw=4,label=\"mean\")\n",
    "ax.plot(np.median(x)*np.ones(2),yl,':',c='pink',zorder=2,lw=4,label=\"median\")\n",
    "ax.plot(stats.mode(x,axis=None).mode[0]*np.ones(2),yl,c='black',zorder=2,lw=4,label=\"mode\")\n",
    "ax.legend()"
   ]
  },
  {
   "cell_type": "markdown",
   "metadata": {},
   "source": [
    "***\n",
    "\n",
    "**Part B**: <font color='green'> Now you're back up for another freethrow, but this time you've been transported to the third overtime of the famous [1976 NBA Finals Game Five](https://www.youtube.com/watch?v=3ZjNDvuMxzc). You line up for a freethrow, but oddly enough you're again transported back to CSCI 3022... Why does this keep happening? If you solve this problem, you make the freethrow:</font>\n",
    "\n",
    "In general, which is wider: a 95% confidence interval or a 99% confidence interval? How would you explain this to your younger sibling, who is not a statistician?"
   ]
  },
  {
   "cell_type": "markdown",
   "metadata": {},
   "source": [
    "We can say that the 99% confidence interval is wider because the value we're looking for in a set of data/numbers will be in that interval 99% of the time as opposed to 95% of the time so it would only make sense for this interval to be \"wider\"."
   ]
  },
  {
   "cell_type": "markdown",
   "metadata": {
    "collapsed": true
   },
   "source": [
    "***\n",
    "\n",
    "**Part C**: <font color='green'>The crowd is silent... Because there is no crowd... And it's not a basketball game...  You're Will Smith and it's 1998. You've got an important decision to make: You've been offered the lead role in both a sci-fi flick and a steampunk western action comedy. If you make this \"freethrow\", Will Smith takes the sci-fi role and stars in \"The Matrix\" as Neo. If you fail to solve this question, Will Smith makes the blunder of turning down the \"Matrix\" to appear in \"Wild Wild West\" and history remains unchanged.\n",
    "</font>\n",
    "\n",
    "Let $X$ be a normally-distributed random variable. You draw from it and get these values, stored in the numpy array **smith**, below. These represent the probabilities of him taking the role in the matrix, calculated by differant \"statistical measures\". Compute a 95% confidence interval for the _variance_.\n"
   ]
  },
  {
   "cell_type": "code",
   "execution_count": 101,
   "metadata": {},
   "outputs": [],
   "source": [
    "smith = np.array([0.67832,0.113,0.423,0.279,0.580,0.401,0.189, 0.198, 0.147, 0.103, 0.098])"
   ]
  },
  {
   "cell_type": "code",
   "execution_count": 107,
   "metadata": {},
   "outputs": [
    {
     "name": "stdout",
     "output_type": "stream",
     "text": [
      "CI: [0.002,0.013]\n",
      "Sample StDev: 0.041\n"
     ]
    }
   ],
   "source": [
    "# CI = sqrt( n-1   S^2 / X^2 a/2 n-1 )   , sqrt( n-1   S^2 / X^2 1-a/2 n-1 ) \n",
    "n = len(smith)\n",
    "dof = n-1\n",
    "sample_var = np.var(smith, ddof=1)\n",
    "alpha = 0.05;\n",
    "L = sample_var/stats.chi2.ppf(1-alpha/2,dof)\n",
    "U = sample_var/stats.chi2.ppf(alpha/2,dof)\n",
    "print(\"CI: [{:.3f},{:.3f}]\".format(L,U))\n",
    "print(\"Sample StDev: {:.3f}\".format((sample_var)))"
   ]
  },
  {
   "cell_type": "markdown",
   "metadata": {},
   "source": [
    "\n",
    "***\n",
    "\n",
    "**Part D**: <font color='green'>Now we're back to basketball...You're Askia Booker, former CU point guard. It's the [2013 KU game](https://www.youtube.com/watch?v=-ycTB27RlEc) and your take the ball with 2.7 seconds left. To sink the three and win the game, solve the following: </font>\n",
    "\n",
    "If you're doing quality control for the average strength of carbon fiber that will be used in airplane construction, and your alternative hypothesis is that the strength of the carbon is below tolerance, and therefore unsafe, would you rather have a low Type I error rate or a low Type II error rate? Explain.\n"
   ]
  },
  {
   "cell_type": "markdown",
   "metadata": {},
   "source": [
    "Since we know the Type II error is essentially finding  the false negative and in the situation of airplane quality control we'd much rather avoid false negatives as opposed to false positives(which we can live with), we can easily choose Type II error rate. We should not have any unexpected issues arising."
   ]
  },
  {
   "cell_type": "markdown",
   "metadata": {},
   "source": [
    "\n",
    "***\n",
    "\n",
    "**Part E**: <font color='green'>Well, we haven't stopped time traveling yet.... But now we're in the soccor world. Your a striker in the [1994 Fifa World Cup Final](https://www.youtube.com/watch?v=pLPM_JSbGvI) between Brazil and Italy. Solve this problem to make a penalaty kick during the final shootout:</font>\n",
    "\n",
    "You measure 49 suckers from baby reef octopuses and find that they are, on average, 47.2 mm wide, with a standard devaition of 29.2mm. \n",
    "\n",
    "Then you measure 65 suckers from from baby dumbo octopuses and find that they are, on average, 63.9 mm wide, with a standard deviation of 19.6 mm. \n",
    "\n",
    "Is there statistical evidence at the 0.025 significance level that the true mean of baby dumbo octopus sucker width exceeds the true mean of baby reef octopus sucker width by more than 7 mm?  Use a test of your choice."
   ]
  },
  {
   "cell_type": "markdown",
   "metadata": {},
   "source": [
    "Given the following Null and Alternative Hypothesis: \n",
    "\\begin{align}\n",
    "H_0 : \\mu_\\text{dumbo} - \\mu_\\text{reef} = 3.5 \\\\\n",
    "H_1 : \\mu_\\text{dumbo} - \\mu_\\text{reef} > 3.5 \\\\\n",
    "\\text{We know with CLT to get our z value:} \\\\\n",
    "\\frac{63.9 - 47.2 - 3.5}{\\sqrt{\\frac{19.6^2}{65} + \\frac{29.2^2}{49}}} = z\n",
    "\\end{align}"
   ]
  },
  {
   "cell_type": "code",
   "execution_count": 111,
   "metadata": {},
   "outputs": [
    {
     "name": "stdout",
     "output_type": "stream",
     "text": [
      "z=2.7340\n"
     ]
    }
   ],
   "source": [
    "top = 63.9-47.2-3.5\n",
    "bottom = np.sqrt(19.6*19.6/65 + 29.2*29.2/49)\n",
    "z = top/bottom\n",
    "print(\"z={:.4f}\".format(z))"
   ]
  },
  {
   "cell_type": "code",
   "execution_count": 113,
   "metadata": {},
   "outputs": [
    {
     "name": "stdout",
     "output_type": "stream",
     "text": [
      "p-value = 0.0031\n"
     ]
    }
   ],
   "source": [
    "# We'll do a p-value test\n",
    "p = 1 - stats.norm.cdf(z)\n",
    "print(\"p-value = {:.4f}\".format(p))"
   ]
  },
  {
   "cell_type": "markdown",
   "metadata": {},
   "source": [
    "Since p < 0.025, we reject the null hypothesis."
   ]
  },
  {
   "cell_type": "code",
   "execution_count": null,
   "metadata": {},
   "outputs": [],
   "source": []
  }
 ],
 "metadata": {
  "kernelspec": {
   "display_name": "Python 3",
   "language": "python",
   "name": "python3"
  },
  "language_info": {
   "codemirror_mode": {
    "name": "ipython",
    "version": 3
   },
   "file_extension": ".py",
   "mimetype": "text/x-python",
   "name": "python",
   "nbconvert_exporter": "python",
   "pygments_lexer": "ipython3",
   "version": "3.6.5"
  }
 },
 "nbformat": 4,
 "nbformat_minor": 2
}
