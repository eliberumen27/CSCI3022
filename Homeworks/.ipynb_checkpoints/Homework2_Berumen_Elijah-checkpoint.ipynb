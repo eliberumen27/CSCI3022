{
 "cells": [
  {
   "cell_type": "markdown",
   "metadata": {},
   "source": [
    "<a id='top'></a>\n",
    "\n",
    "# Homework 2: Introduction to Probability and Simulation\n",
    "***\n",
    "\n",
    "**Name**: Elijah Berumen\n",
    "\n",
    "***\n",
    "\n",
    "This assignment is due on Canvas by **MIDNIGHT on Friday September 27**. Your solutions to theoretical questions should be done in Markdown directly below the associated question.  Your solutions to computational questions should include any specified Python code and results as well as written commentary on your conclusions.  Remember that you are encouraged to discuss the problems with your classmates, but **you must write all code and solutions on your own**.\n",
    "\n",
    "**NOTES**: \n",
    "\n",
    "- Any relevant data sets should be available under the **Data** module on Canvas. To make life easier on the graders if they need to run your code, do not change the relative path names here. Instead, move the files around on your computer.\n",
    "- If you're not familiar with typesetting math directly into Markdown then by all means, do your work on paper first and then typeset it later.  Remember that there is a [reference guide](https://math.meta.stackexchange.com/questions/5020/mathjax-basic-tutorial-and-quick-reference) linked on Canvas on writing math in Markdown. **All** of your written commentary, justifications and mathematical work should be in Markdown.\n",
    "- Because you can technically evaluate notebook cells is a non-linear order, it's a good idea to do Kernel $\\rightarrow$ Restart & Run All as a check before submitting your solutions.  That way if we need to run your code you will know that it will work as expected. \n",
    "- It is **bad form** to make your reader interpret numerical output from your code.  If a question asks you to compute some value from the data you should show your code output **AND** write a summary of the results in Markdown directly below your code. \n",
    "- This probably goes without saying, but... For any question that asks you to calculate something, you **must show all work and justify your answers to receive credit**. Sparse or nonexistent work will receive sparse or nonexistent credit. \n",
    "\n",
    "---\n",
    "**Shortcuts:**  [Problem 1](#p1) | [Problem 2](#p2) | [Problem 3](#p3) | [Problem 4](#p4) | [Problem 5](#p5) \n",
    "\n",
    "---"
   ]
  },
  {
   "cell_type": "code",
   "execution_count": 2,
   "metadata": {},
   "outputs": [],
   "source": [
    "import pandas as pd\n",
    "import numpy as np\n",
    "import matplotlib.pylab as plt\n",
    "%matplotlib inline"
   ]
  },
  {
   "cell_type": "markdown",
   "metadata": {},
   "source": [
    "***\n",
    "<a/ id='p1'></a>\n",
    "[Back to top](#top)\n",
    "\n",
    "### [20 points] Problem 1\n",
    "\n",
    "To play a game, you have a bag containing 30 fair six-sided dice, with faces `{1,2,3,4,5,6}`.  <img style=\"float: right; width: 200px; padding: 3mm;\" src=\"https://images-na.ssl-images-amazon.com/images/I/619NZnvxJaL._SX425_.jpg\" alt=\"Drawing\"/>\n",
    "This bag also contains 17 fair eight-sided dice (faces `{1,2,3,4,5,6,7,8}`) and 3 fair twenty-sided dice (faces `{1,2,3,4,...,19,20}`).  Call these 3 classes of die \"Six\", \"Eight\" and \"Twenty\" (or S, E, and T, for short). In order to be sure that you are not distinguishing dice by their feel, you are required to wear crab claw gloves. After donning your gloves, you grab one die at random from the bag. \n",
    "\n",
    "Work the following problems by hand (or claw) unless otherwise stated (but don't be afraid to simulate to check your result!). "
   ]
  },
  {
   "cell_type": "markdown",
   "metadata": {},
   "source": [
    "**Part A**: You roll your die one time.  What is the probability of the event $R_7$, that you roll a 7?  Include at least 4 decimal places in your answer."
   ]
  },
  {
   "cell_type": "markdown",
   "metadata": {},
   "source": [
    "$P(S) = 30/50$\n",
    "\n",
    "$P(E) = 17/50$\n",
    "\n",
    "$P(T) = 3/50$\n",
    "\n",
    "$P(R_7) = P(S)P(S_7) + P(E)P(E_7) + P(T)P(T_7)$\n",
    "\n",
    "$P(R_7) = (30/50)(0) + (17/50)(1/8) + (3/50)(1/20)$\n",
    "\n",
    "$P(R_7) = (.0425) + (.003) = .0455$"
   ]
  },
  {
   "cell_type": "markdown",
   "metadata": {},
   "source": [
    "**Part B**: Suppose you roll a 7.  What is the probability that the die you chose from the bag is an Eight-sided die? "
   ]
  },
  {
   "cell_type": "markdown",
   "metadata": {},
   "source": [
    "$P(E | R_7) = \\frac{P(R_7 | E)P(E)}{P(R_7)}$\n",
    "\n",
    "$P(E | R_7) = \\frac{(.0425)(.34)}{(.0455)}$\n",
    "\n",
    "$ = .3176$"
   ]
  },
  {
   "cell_type": "markdown",
   "metadata": {},
   "source": [
    "**Part C:**  Are the events $R_7$ and $E$ independent?  Justify your answer **using math**."
   ]
  },
  {
   "cell_type": "markdown",
   "metadata": {},
   "source": [
    "***Checking if any of the conditions for two events to be independent hold\n",
    "\n",
    "First: \n",
    "\n",
    "$P(R_7 | E)$ must equal $P(R_7)$\n",
    "\n",
    "OR\n",
    "\n",
    "$P(E | R_7)$ must equal $P(E)$\n",
    "\n",
    "Neither of these are the case. Lastly, we can check if the following holds:\n",
    "\n",
    "$P(A \\cap B) = P(A)P(B)$"
   ]
  },
  {
   "cell_type": "markdown",
   "metadata": {},
   "source": [
    "**Part D:**  Suppose you roll your die $n$ times and record each outcome.  Obviously, if you roll 7 or 8 you know you did *not* pick a Six-sided die, and if you roll a 9 or higher, you must have picked a Twenty-sided die.\n",
    "\n",
    "But, if you roll $n$ times in a row and get only 1, 2, 3, 4, 5, or 6 you would have a stronger belief that you in fact grabbed one of the Six-sided dice.  Let $L_n$ be the event that you roll $n$ rolls of 1, 2, 3, 4, 5, or 6 in a row.  For example, one outcome in $L_3$ is the sequence 2, 3, 1.\n",
    "\n",
    "Given that you roll a single value of 1, 2, 3, 4, 5, or 6, what is the probability that you have grabbed a Six-sided die?  That is, calculate **by hand** $P(S \\mid L_1)$."
   ]
  },
  {
   "cell_type": "markdown",
   "metadata": {},
   "source": [
    "$P(S | L_1) = \\frac{P(L_1 | E)P(S)}{P(L_1 | S)P(S) + P(L_1 | E)P(E) + P(L_1 | T)P(T)}$\n",
    "\n",
    "$P(S | L_1) = \\frac{(1)(30/50)}{(1)(28/40) + (6/8)(17/50) + (6/20)(3/50)}$\n",
    "\n",
    "$ = .6167$"
   ]
  },
  {
   "cell_type": "markdown",
   "metadata": {},
   "source": [
    "**Part E**:  \n",
    "\n",
    "First, work out **by hand** a formula for the probability in general that you are rolling a Six-sided die, given that you have rolled $n$ values in a row that are 1, 2, 3, 4, 5 or 6 (that is, $L_n$).  So you want a formula for $P(S \\mid L_n)$ in terms of $n$.\n",
    "\n",
    "Then, define a function `prob_six` to calculate $P(S \\mid L_n)$.  This function should only take one positive integer argument, $n$.\n",
    "\n",
    "Verify that your function is performing as expected by checking your answer to **Part D**."
   ]
  },
  {
   "cell_type": "markdown",
   "metadata": {},
   "source": [
    "$P(S | L_1) = \\frac{P(L_n | E)P(S)}{P(L_n | S)P(S) + P(L_n | E)P(E) + P(L_n | T)P(T)}$"
   ]
  },
  {
   "cell_type": "code",
   "execution_count": 16,
   "metadata": {},
   "outputs": [
    {
     "name": "stdout",
     "output_type": "stream",
     "text": [
      "0.6872852233676976\n"
     ]
    }
   ],
   "source": [
    "def prob_six(n): \n",
    "    calcProb = (0.6)/((0.6) + (0.75*((0.34)**n)) + (0.3*(.06**n)))\n",
    "    return calcProb\n",
    "\n",
    "print(prob_six(1))"
   ]
  },
  {
   "cell_type": "markdown",
   "metadata": {},
   "source": [
    "**Part F:**  What is the smallest value of $n$ successive rolls of 1, 2, 3, 4, 5 or 6 that would make you believe that there's a better-than-95% chance that the die you grabbed is Six-sided?  Plugging larger and larger values for $n$ into your `prob_six` function is a very reasonable way to check this."
   ]
  },
  {
   "cell_type": "code",
   "execution_count": 27,
   "metadata": {},
   "outputs": [
    {
     "name": "stdout",
     "output_type": "stream",
     "text": [
      "0.6872852233676976\n",
      "0.8723719794120213\n",
      "0.9530726107899257\n",
      "0.9835639771188398\n",
      "0.9943522613210308\n",
      "0.9980726928377291\n"
     ]
    }
   ],
   "source": [
    "def smallestN(n): \n",
    "    for n in range(1,7):\n",
    "        print(prob_six(n))\n",
    "        \n",
    "smallestN(1) # Test function here so display the 6 values we need to look at"
   ]
  },
  {
   "cell_type": "markdown",
   "metadata": {},
   "source": [
    "3 or greater rolls seems to provide a better than 95% chances that the die we grabbed is six sided"
   ]
  },
  {
   "cell_type": "markdown",
   "metadata": {},
   "source": [
    "***\n",
    "<a id='p2'></a>\n",
    "[Back to top](#top)\n",
    "\n",
    "\n",
    "### [20 points] Problem 2\n",
    "\n",
    "Oscar and Stella are two octopuses who are very excited to have both secured professorships in the Computer Science department at CU. They work hard, but they also like to blow off a little steam after work. When they leave work from the CU Engineering Center ($E~$), they each head for one of five other locations: the Gym to get strong ($G~$), the Library to get learned ($L~$), the Boulder Reservoir to have a nice swim ($R$), the Hill to have a sandwich ($H~$), or to Brewing Market to have a nice Coffee ($C~$).  \n",
    "\n",
    "Here are some rules governing their movements throughout the fair city of Boulder:\n",
    "* When Oscar and/or Stella is leaving one location, they randomly select one of the available adjacent locations, with equal probability.\n",
    "* This includes back-tracking. Eg. Stella could go from the Engineering Center to the Library, then directly back to the Engineering Center. \n",
    "* Assume that all moves require the same amount of time.\n",
    "* They are also not allowed to stay put; they always must move to some *other* adjacent location.\n",
    "* Oscar and Stella, being the think-for-yourselfers that they are, also act **independently** of one another. That is, the probability that Oscar goes from one place to another is independent of the probability of Stella's movements.\n",
    "\n",
    "<img src=\"http://www.cs.colorado.edu/~tonyewong/home/resources/chris_and_dan_statespace.png\" style=\"width: 300px;\"/>"
   ]
  },
  {
   "cell_type": "markdown",
   "metadata": {},
   "source": [
    "**Part A**: Oscar is exhausted from a long day of researching whether [P=NP](https://en.wikipedia.org/wiki/P_versus_NP_problem) so, naturally, he wants to go to the brewing market to grab a coffee. That being said, Osacar has made a break through in his research and wants to follow up on it at the library, but he needs to run some errands too. Assume Oscar can do his errands at any location on the map. \n",
    "\n",
    "Compute by hand the probability that Oscar goes to the Brewing Market ($C$) in his first stop, makes a second stop at any location, then goes to the Library ($L$) third. "
   ]
  },
  {
   "cell_type": "markdown",
   "metadata": {},
   "source": [
    "$P(C) = 1/4$\n",
    "\n",
    "$P(Any) = 1/3$\n",
    "\n",
    "$P(L) = 1/3$\n",
    "\n",
    "= 1/36 = .0278"
   ]
  },
  {
   "cell_type": "markdown",
   "metadata": {},
   "source": [
    "**Part B**: Stella is a competitive body-building octopus professor. This is quite the feat given her lack of bones!  Compute (by hand) the probability that Stella ends up at the Gym _either_ as her first _or_ second location visited after leaving the Engineering Center ($E$). (Again, assume that Stella wanders the streets of Boulder randomly using the same rules described above.)"
   ]
  },
  {
   "cell_type": "markdown",
   "metadata": {},
   "source": [
    "$ P(G_{1st} ∪ G_{2nd}) = P(G_{1st}) + P(G_{2nd}) − P(G_{1st} ∩ G_{2nd}) $\n",
    "\n",
    "Law of Total Probability gives us:\n",
    "\n",
    "$(1/4)(1/4) = (1/16)$"
   ]
  },
  {
   "cell_type": "markdown",
   "metadata": {},
   "source": [
    "**Part C**: Suppose that Stella works late at the Engineering Center, while Oscar goes to the Gym.  Later, they both leave and wander around, randomly and independently of one another, as described above.\n",
    "1. What is the probability that they run into each other in the same location on the first location visited?  \n",
    "2. Given their two initial locations, what is the probability that they meet at the Hill after 2 moves?"
   ]
  },
  {
   "cell_type": "markdown",
   "metadata": {},
   "source": [
    "1.\n",
    "$P(First Loc) = \\frac{1}{4} \\cdot \\frac{1}{4} + \\frac{1}{4} \\cdot \\frac{1}{4}$\n",
    "\n",
    "$ = 1/16 + 1/16  = 1/8$\n",
    "\n",
    "2. \n",
    "$P(Second Loc) = \\frac{1}{4} \\cdot \\frac{1}{4} + \\frac{1}{4} \\cdot \\frac{1}{4}$"
   ]
  },
  {
   "cell_type": "markdown",
   "metadata": {},
   "source": [
    "**Part D**: Write a simulation to confirm that your by-hand calculations in **Part A**, **Part B**, and **Part C** are correct. Make sure you run your simulations for enough trials that your estimates are reasonably close to your analytic results. In addition to showing your code, you should explain in Markdown (not just in code comments) what your code is doing and why it is a reasonable approximation of the probabilities in **Part A**, **Part B**, and **Part C**.  "
   ]
  },
  {
   "cell_type": "code",
   "execution_count": 52,
   "metadata": {},
   "outputs": [
    {
     "name": "stdout",
     "output_type": "stream",
     "text": [
      "0.00290946907342\n"
     ]
    }
   ],
   "source": [
    "# Key value pairs in a dict to show each location and it's adjacent nodes\n",
    "graph = {\"H\":[\"G\",\"L\",\"C\"],      \n",
    "         \"G\":[\"H\",\"L\",\"E\",\"R\"],  \n",
    "         \"R\":[\"G\",\"E\"],          \n",
    "         \"L\":[\"H\",\"G\",\"E\",\"C\"],  \n",
    "         \"E\":[\"C\",\"L\",\"G\",\"R\"], \n",
    "         \"C\":[\"H\",\"L\",\"E\"]}      \n",
    "\n",
    "def simLoc(startingLoc, steps, adjNodes):\n",
    "    loc = startingLoc\n",
    "    \n",
    "    for step in range(steps):\n",
    "        loc = np.random.choice(adjNodes[loc]) # Choose random location\n",
    "        \n",
    "    return loc\n",
    "\n",
    "# Part A is simulated below \n",
    "partA = np.array([simLoc(\"E\",2,graph) == \"C\" for i in range(100000)]).sum()/100000\n",
    "partA1 = np.array([simLoc(\"E\",1,graph) == \"C\" for i in range(100000)]).sum()/100000\n",
    "partA2 = np.array([simLoc(\"E\",3,graph) == \"C\" for i in range(100000)]).sum()/100000\n",
    "print(partA*partA1*partA2)"
   ]
  },
  {
   "cell_type": "markdown",
   "metadata": {},
   "source": []
  },
  {
   "cell_type": "code",
   "execution_count": 55,
   "metadata": {},
   "outputs": [
    {
     "name": "stdout",
     "output_type": "stream",
     "text": [
      "0.4365\n"
     ]
    }
   ],
   "source": [
    "# With this OR operation we will be adding the results of the one and two step traversals\n",
    "\n",
    "step1 = np.array([simLoc(\"E\",1,graph)==\"G\" for i in range(100000)]).sum()/100000 \n",
    "step2 = np.array([simLoc(\"E\",2,graph)==\"G\" for i in range(100000)]).sum()/100000\n",
    "print(step1 + step2)"
   ]
  },
  {
   "cell_type": "markdown",
   "metadata": {},
   "source": []
  },
  {
   "cell_type": "code",
   "execution_count": 60,
   "metadata": {},
   "outputs": [
    {
     "name": "stdout",
     "output_type": "stream",
     "text": [
      "0.24874\n"
     ]
    }
   ],
   "source": [
    "# Part C with the 1st step only\n",
    "oscar  = np.array([simLoc(\"E\",1,graph) for i in range(100000)])\n",
    "stella = np.array([simLoc(\"H\",1,graph) for i in range(100000)])\n",
    "print(np.sum(oscar == stella)/100000)"
   ]
  },
  {
   "cell_type": "markdown",
   "metadata": {},
   "source": []
  },
  {
   "cell_type": "markdown",
   "metadata": {},
   "source": [
    "***\n",
    "<a/ id='p3'></a>\n",
    "[Back to top](#top)\n",
    "\n",
    "### [20 points] Problem 3  \n",
    "\n",
    "As part of their Computer Science Jedi training, Zach and Rachel are having a lightsaber duel. The rules of the lightsaber duel are as follows:\n",
    "* The duel is composed of a number of rounds.\n",
    "* Each round consists of Zach practicing his sweetest Jedi moves and trying to strike Rachel, then Rachel practicing *her* best moves and trying to strike Zach.\n",
    "* If Zach manages to strike Rachel, then Zach is awarded a point, and similarly if Rachel manages to strike Zach, then Rachel is awarded a point.\n",
    "* If a round ends in a tie, then Zach and Rachel proceed to another round. If a round ends with one Jedi scoring a point but the other one does not, then the Jedi who scored a point wins the duel.\n",
    "\n",
    "Let $Z$ be the event that \"Zach wins the duel\", $E$ be the event that \"the duel ends after the first round of lightsaber strikes\", and $C$ be the event that \"the duel continues after the first round of lightsaber strikes\".  Suppose that the result of one lightsaber strike is independent of the other strikes, Zach successfully lands his lightsaber strikes with probability $p$, and Rachel lands her strikes with probability $q$.\n",
    "\n",
    "**Part A**: The duel will continue until Zach or Rachel wins.  What is the sample space $\\Omega$ for this \"experiment\"?  Represent the outcomes of individual lightsaber strikes by $H$ for a hit and $M$ for a miss, and assume that Zach has the first strike in each round. At the very least, your answer should include all of the events in $\\Omega$ that include one or two rounds."
   ]
  },
  {
   "cell_type": "markdown",
   "metadata": {},
   "source": [
    "$\\Omega ={HM,MH,HHHM,HHMH,MMHM,MMMH,…}$\n",
    " \n"
   ]
  },
  {
   "cell_type": "markdown",
   "metadata": {},
   "source": [
    "**Part B**: Determine $P(Z \\mid E)$ in terms of $p$ and $q$."
   ]
  },
  {
   "cell_type": "markdown",
   "metadata": {},
   "source": [
    "$P(Z | E) = \\frac{P(Z \\cap E)}{P(E)} = \\frac{P(\\{HM\\})}{P(\\{MH, HM\\})} = \\frac{p(1-q)}{p(1-q) + (1-p)q} = \\frac{p(1-q)}{p + q -2pq} $"
   ]
  },
  {
   "cell_type": "markdown",
   "metadata": {},
   "source": [
    "**Part C**: Explain why events $C$ and $Z$ are independent. "
   ]
  },
  {
   "cell_type": "markdown",
   "metadata": {},
   "source": [
    "The condition that this situation satisfied for independence is $P(Z | E) = P(E)$ since the probability of Zach winning each duel on the first round is no different then on any rounds afterwards. The result of the previous round has no effect on the probability that Zach wins the next one as well. "
   ]
  },
  {
   "cell_type": "markdown",
   "metadata": {},
   "source": [
    "**Part D**: Use the Law of Total Probability to show that $P(Z) = p(1-q) + (2pq - p - q +1) ~P(Z \\mid C)$. "
   ]
  },
  {
   "cell_type": "markdown",
   "metadata": {},
   "source": [
    "$P(Z) = P(Z | E)P(E) + P(Z | C)P(C)$\n",
    "\n",
    "$P(Z | E)P({HM, MH}) + P(Z | C)P({HH, MM})$"
   ]
  },
  {
   "cell_type": "markdown",
   "metadata": {},
   "source": [
    "**Part E**: Use the fact from **Part B** that $P(Z \\mid C) = P(Z)$ to determine $P(Z)$ in terms of $p$ and $q$."
   ]
  },
  {
   "cell_type": "markdown",
   "metadata": {},
   "source": []
  },
  {
   "cell_type": "markdown",
   "metadata": {},
   "source": [
    "**Part F**: Explain why the answers to **Part B** and **Part E** are the same. "
   ]
  },
  {
   "cell_type": "markdown",
   "metadata": {},
   "source": []
  },
  {
   "cell_type": "markdown",
   "metadata": {},
   "source": [
    "**Part G**: Explain the significance of the solution technique for $P(Z)$ outlined in **Part D** and **Part E**.  Why did we go this route instead of computing $P(Z)$ directly?  Can we always use such techniques?  What assumption did we need to make in order to use this solution approach?"
   ]
  },
  {
   "cell_type": "markdown",
   "metadata": {},
   "source": []
  },
  {
   "cell_type": "markdown",
   "metadata": {},
   "source": [
    "***\n",
    "<a id='p4'></a>\n",
    "[Back to top](#top)\n",
    "\n",
    "### [25 points] Problem 4\n",
    "\n",
    "In this problem you will write some code to simulate the game of **Miniopoly** (a very rough approximation of [Monopoly](https://en.wikipedia.org/wiki/Monopoly_(game)).  The game consists of a round board with 40 \"squares\" numbered from $0$ to $39$, where squares $0$ and would-be $40$ are [coincident](https://en.wikipedia.org/wiki/Coincident) and called **GO**.  A player starts on **GO** with \\\\$200 in their pocket.  On each turn the player rolls a pair of dice and then moves a number of spaces equal to the sum of the dice.  Landing on different squares have different results: \n",
    "\n",
    "- Squares 3, 7, 15, 22, 33, and 36 cause you to draw a card.  The cards tell you to collect either \\\\$50 or \\\\$250 or pay the bank \\\\$50.  There is always an equal probability associated with each of these possible cards.\n",
    "\n",
    "\n",
    "- Squares 0, 10, and 20 do not trigger any action \n",
    "\n",
    "\n",
    "- Square 30 is **Go To Jail**, which sends the player directly to **Jail** and ends the turn \n",
    "\n",
    "- If a player starts a turn from **Jail** she rolls two dice: \n",
    "\n",
    "    - If the player rolls doubles (i.e. the dice have equal values) the player moves from Square 10 a number of squares equal to the sum of the dice\n",
    "    \n",
    "    - If the player rolls anything other than doubles she pays the bank \\$20 and remains in **Jail** \n",
    "    \n",
    "\n",
    "- If the player passes or lands on **GO** she collects \\$200. \n",
    "\n",
    "- If the player lands on any other square not mentioned above, she pays the bank \\$25. \n",
    "\n",
    "\n",
    "If at any point the player has \\$0 or less they go bankrupt and the game ends.\n",
    "\n",
    "See [here](http://www.cs.colorado.edu/~tonyewong/home/resources/miniopoly_example.png) for an example of the Miniopoly board layout.\n",
    "\n",
    "<br>\n",
    "\n",
    "**Part A**: Complete the function miniopoly_turn below. The function should simulate one turn of Miniopoly.  It should take as arguments the player's current location on the board as well as the player's current cash reserves, and return the player's new location and cash reserves after the turn has completed. Note that if a player goes bankrupt during the game you should return their cash as 0 instead of a negative value.  "
   ]
  },
  {
   "cell_type": "code",
   "execution_count": 78,
   "metadata": {},
   "outputs": [],
   "source": [
    "def miniopoly_turn(state, cash):\n",
    "    # Bankruptcy\n",
    "    if cash == 0:\n",
    "        return state, cash\n",
    "    # Rolls\n",
    "    R1 = np.random.choice(6) + 1\n",
    "    R2 = np.random.choice(6) + 1\n",
    "    \n",
    "    # Jail\n",
    "    if state==30:\n",
    "        # Checking if we rolled both the same\n",
    "        if R1==R2:\n",
    "            # state ten\n",
    "            state = 10 + R1 + R2\n",
    "        else:\n",
    "            cash += -25\n",
    "            return state, cash\n",
    "        \n",
    "    # Not Jail\n",
    "    else:\n",
    "        state = state + R1 + R2  \n",
    "\n",
    "    # landing GO\n",
    "    if state >= 40:\n",
    "        cash += 200\n",
    "        state = state - 40\n",
    "        \n",
    "    # draw cards\n",
    "    if state in [3,7,15,22,33,36]:\n",
    "        cash += np.random.choice([50,250,-50])\n",
    "        return state, cash \n",
    "    \n",
    "    # Jail\n",
    "    if state == 30:\n",
    "        return state, cash \n",
    "    \n",
    "    if state in list([0,10,20]):\n",
    "        return state, cash\n",
    "    \n",
    "    else:\n",
    "        # otherwise, pay up.\n",
    "        cash += -state\n",
    "        return state, cash "
   ]
  },
  {
   "cell_type": "markdown",
   "metadata": {},
   "source": [
    "**Part B**: Use your function from **Part A** to Simulate at least 10000 25-turn games of Miniopoly and make a frequency histogram of the player's cash at the end of the game."
   ]
  },
  {
   "cell_type": "code",
   "execution_count": 85,
   "metadata": {},
   "outputs": [],
   "source": [
    "def miniSim():\n",
    "    startCash = 200\n",
    "    startState = 0\n",
    "    \n",
    "    for i in range(25):\n",
    "        startState, startCash = miniopoly_turn(startState, startCash)\n",
    "        if startCash <= 0:\n",
    "            return 0\n",
    "    return startCash\n",
    "\n",
    "numGames = 10000\n",
    "endCash = np.zeros(numGames)\n",
    "for currGame in range(numGames):\n",
    "    endCash[currGame] = miniSim()"
   ]
  },
  {
   "cell_type": "code",
   "execution_count": 92,
   "metadata": {},
   "outputs": [
    {
     "data": {
      "image/png": "[encoded data removed]",
      "text/plain": [
       "<Figure size 720x432 with 1 Axes>"
      ]
     },
     "metadata": {},
     "output_type": "display_data"
    }
   ],
   "source": [
    "graph = pd.Series(endCash)\n",
    "\n",
    "fig, ax = plt.subplots(nrows=1, ncols=1, figsize=(10,6))\n",
    "\n",
    "graph.hist(edgecolor='black', ax=ax)\n",
    "\n",
    "ax.set_title('Players Cash')\n",
    "ax.set_xlabel('Cash Amount')\n",
    "ax.set_ylabel('Frequency')\n",
    "\n",
    "ax.set_axisbelow(True)"
   ]
  },
  {
   "cell_type": "markdown",
   "metadata": {},
   "source": [
    "**Part C**: Use your code from **Part A** to estimate the probability that a player goes bankrupt in a game that only lasts 25 turns."
   ]
  },
  {
   "cell_type": "code",
   "execution_count": 94,
   "metadata": {},
   "outputs": [
    {
     "data": {
      "text/plain": [
       "0.0933"
      ]
     },
     "execution_count": 94,
     "metadata": {},
     "output_type": "execute_result"
    }
   ],
   "source": [
    "#Estimation of probability of going bankrupt\n",
    "\n",
    "# We find the average of how many go bankrupt by totalling bankrupt games and dividing by the number of games\n",
    "\n",
    "bankrupt = 0\n",
    "for game in range(numGames):\n",
    "    if miniSim() == 0:\n",
    "        bankrupt += 1\n",
    "bankrupt/numGames"
   ]
  },
  {
   "cell_type": "markdown",
   "metadata": {},
   "source": [
    "The probability of a player going bankrup is approx: .0933"
   ]
  },
  {
   "cell_type": "markdown",
   "metadata": {},
   "source": [
    "**Part D**: Use your code from **Part A** to estimate the probability that a player goes bankrupt in a 25 turn game  _given_ that they went to **Jail** at least twice.  Is a player more or less likely to go bankrupt if they've been to **Jail** twice?  "
   ]
  },
  {
   "cell_type": "markdown",
   "metadata": {},
   "source": []
  },
  {
   "cell_type": "code",
   "execution_count": null,
   "metadata": {},
   "outputs": [],
   "source": [
    "#Estimate probability of going bankrupt given jail at least twice."
   ]
  },
  {
   "cell_type": "markdown",
   "metadata": {},
   "source": [
    "**Part E**: Use your code from **Part A** to estimate the probability (either directly or using Bayes' Rule) that a player has gone to jail at least twice, given that the player went bankrupt in the first 25 turns."
   ]
  },
  {
   "cell_type": "code",
   "execution_count": null,
   "metadata": {},
   "outputs": [],
   "source": [
    "#Estimate probability of going to jail twice, given bankruptcy in first 25 turns."
   ]
  },
  {
   "cell_type": "markdown",
   "metadata": {},
   "source": []
  },
  {
   "cell_type": "markdown",
   "metadata": {},
   "source": [
    "***\n",
    "<a id='p5'></a>\n",
    "[Back to top](#top)\n",
    "\n",
    "### [15 points] Problem 5\n",
    "\n",
    "To get published in an academic journal, you have to prove something \"interesting.\"  As a result, most academics begin their research by investigating hypotheses that, all else equal, are unlikely to be true.  Suppose each research project begins with a research *claim* that has a 10% chance of being correct.\n",
    "\n",
    "They then perform a study that satisfies the following two properties:\n",
    "\n",
    "    1) The probability that they correctly *find* an important result given that their *claim* is true is 50%\n",
    "    2) The probability that they incorrectly *find* an important result given that their *claim* is false is 5%\n",
    "\n",
    "If they *find* an important result they are published.  What is the probability that their *claim* was true, given that they were published?"
   ]
  },
  {
   "cell_type": "markdown",
   "metadata": {},
   "source": [
    "C = Correctly find result\n",
    "I = Incorrectly find result\n",
    "T = Claim is True\n",
    "F = Claim is False\n",
    "\n",
    "Pub = Published \n",
    "\n",
    "$P(C | T) = 50\\%$\n",
    "\n",
    "$P(C | F) = 5\\%$\n",
    "\n",
    "$P(T | Pub) = $\n"
   ]
  },
  {
   "cell_type": "code",
   "execution_count": null,
   "metadata": {},
   "outputs": [],
   "source": []
  }
 ],
 "metadata": {
  "kernelspec": {
   "display_name": "Python 3",
   "language": "python",
   "name": "python3"
  },
  "language_info": {
   "codemirror_mode": {
    "name": "ipython",
    "version": 3
   },
   "file_extension": ".py",
   "mimetype": "text/x-python",
   "name": "python",
   "nbconvert_exporter": "python",
   "pygments_lexer": "ipython3",
   "version": "3.6.5"
  }
 },
 "nbformat": 4,
 "nbformat_minor": 2
}
