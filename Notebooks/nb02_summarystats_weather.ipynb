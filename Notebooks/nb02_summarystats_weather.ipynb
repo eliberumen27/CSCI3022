{
 "cells": [
  {
   "cell_type": "markdown",
   "metadata": {},
   "source": [
    "# Notebook 2: Summary Statistics and Boulder Weather Data \n",
    "***\n",
    "\n",
    "In this notebook we'll: \n",
    "- Use Pandas to compute summary statistics on Boulder weather data \n",
    "- Figure out how summary statistics like mean and standard deviation change under transformations of the data\n",
    "\n",
    "\n",
    "First, as always, we'll load Numpy and Pandas using their common aliases, np and pd. "
   ]
  },
  {
   "cell_type": "code",
   "execution_count": 163,
   "metadata": {},
   "outputs": [],
   "source": [
    "import numpy as np\n",
    "import pandas as pd"
   ]
  },
  {
   "cell_type": "markdown",
   "metadata": {},
   "source": [
    "The data we'll explore in this notebook concerns temperatures and other weather observations in Boulder County over the month of July 2017.  The data was obtained from the National Oceanic and Atmospheric Administration's [Climate.gov](https://www.climate.gov/) website.  You can find and download loads of climate-related data from NOAA [here](https://www.climate.gov/maps-data/datasets).   \n",
    "\n",
    "The data is stored in a .csv file called clean_boulder_weather.csv.  If you've updated your local course repository then you can read the data into pandas from the given local path.  If you have not (e.g. if you're using Azure) then you can load the data into pandas by passing in the url to the raw data file on GitHub.  "
   ]
  },
  {
   "cell_type": "code",
   "execution_count": 164,
   "metadata": {},
   "outputs": [],
   "source": [
    "# Path to the data\n",
    "file_path = '/Users/Eli/Dropbox/FALL 2019 COURSES/CSCI 3022 Data Science/Data/clean_boulder_weather.csv'\n",
    "\n",
    "# Load the data into a DataFrame \n",
    "df = pd.read_csv(file_path)"
   ]
  },
  {
   "cell_type": "markdown",
   "metadata": {},
   "source": [
    "Take a look at the first 50 or so rows of the DataFrame using the head( ) method. "
   ]
  },
  {
   "cell_type": "code",
   "execution_count": 165,
   "metadata": {
    "scrolled": true
   },
   "outputs": [
    {
     "data": {
      "text/html": [
       "<div>\n",
       "<style scoped>\n",
       "    .dataframe tbody tr th:only-of-type {\n",
       "        vertical-align: middle;\n",
       "    }\n",
       "\n",
       "    .dataframe tbody tr th {\n",
       "        vertical-align: top;\n",
       "    }\n",
       "\n",
       "    .dataframe thead th {\n",
       "        text-align: right;\n",
       "    }\n",
       "</style>\n",
       "<table border=\"1\" class=\"dataframe\">\n",
       "  <thead>\n",
       "    <tr style=\"text-align: right;\">\n",
       "      <th></th>\n",
       "      <th>STATION</th>\n",
       "      <th>NAME</th>\n",
       "      <th>DATE</th>\n",
       "      <th>PRCP</th>\n",
       "      <th>TMAX</th>\n",
       "      <th>TMIN</th>\n",
       "    </tr>\n",
       "  </thead>\n",
       "  <tbody>\n",
       "    <tr>\n",
       "      <th>0</th>\n",
       "      <td>USW00094075</td>\n",
       "      <td>BOULDER 14 W, CO US</td>\n",
       "      <td>2017-07-01</td>\n",
       "      <td>0.00</td>\n",
       "      <td>68.0</td>\n",
       "      <td>31.0</td>\n",
       "    </tr>\n",
       "    <tr>\n",
       "      <th>1</th>\n",
       "      <td>USW00094075</td>\n",
       "      <td>BOULDER 14 W, CO US</td>\n",
       "      <td>2017-07-02</td>\n",
       "      <td>0.00</td>\n",
       "      <td>73.0</td>\n",
       "      <td>35.0</td>\n",
       "    </tr>\n",
       "    <tr>\n",
       "      <th>2</th>\n",
       "      <td>USW00094075</td>\n",
       "      <td>BOULDER 14 W, CO US</td>\n",
       "      <td>2017-07-03</td>\n",
       "      <td>0.00</td>\n",
       "      <td>68.0</td>\n",
       "      <td>46.0</td>\n",
       "    </tr>\n",
       "    <tr>\n",
       "      <th>3</th>\n",
       "      <td>USW00094075</td>\n",
       "      <td>BOULDER 14 W, CO US</td>\n",
       "      <td>2017-07-04</td>\n",
       "      <td>0.05</td>\n",
       "      <td>68.0</td>\n",
       "      <td>43.0</td>\n",
       "    </tr>\n",
       "    <tr>\n",
       "      <th>4</th>\n",
       "      <td>USW00094075</td>\n",
       "      <td>BOULDER 14 W, CO US</td>\n",
       "      <td>2017-07-05</td>\n",
       "      <td>0.01</td>\n",
       "      <td>73.0</td>\n",
       "      <td>40.0</td>\n",
       "    </tr>\n",
       "  </tbody>\n",
       "</table>\n",
       "</div>"
      ],
      "text/plain": [
       "       STATION                 NAME        DATE  PRCP  TMAX  TMIN\n",
       "0  USW00094075  BOULDER 14 W, CO US  2017-07-01  0.00  68.0  31.0\n",
       "1  USW00094075  BOULDER 14 W, CO US  2017-07-02  0.00  73.0  35.0\n",
       "2  USW00094075  BOULDER 14 W, CO US  2017-07-03  0.00  68.0  46.0\n",
       "3  USW00094075  BOULDER 14 W, CO US  2017-07-04  0.05  68.0  43.0\n",
       "4  USW00094075  BOULDER 14 W, CO US  2017-07-05  0.01  73.0  40.0"
      ]
     },
     "execution_count": 165,
     "metadata": {},
     "output_type": "execute_result"
    }
   ],
   "source": [
    "df.head()"
   ]
  },
  {
   "cell_type": "markdown",
   "metadata": {},
   "source": [
    "From this you should see that each row in the DataFrame refers to a particular weather station / date combination.  The columns of the DataFrame are as follows: \n",
    "\n",
    "- **STATION**: The unique identification code for each weather station \n",
    "- **NAME**: The location / name of the weather station \n",
    "- **DATE**: The date of the observation \n",
    "- **PRCP**: The precipitation (in inches)\n",
    "- **TMAX**: The daily maximum temperature (in Fahrenheit)\n",
    "- **TMIN**: The daily minimum temperature (in Fahrenheit)\n",
    "\n",
    "From the printed DataFrame above you can see that we actually have data from multiple weather stations.  To see how many, we can pass the **NAME** column (or the **STATION** column) into Python's set function. "
   ]
  },
  {
   "cell_type": "code",
   "execution_count": 166,
   "metadata": {},
   "outputs": [
    {
     "data": {
      "text/plain": [
       "{'BOULDER 14 W, CO US',\n",
       " 'BOULDER, CO US',\n",
       " 'GROSS RESERVOIR, CO US',\n",
       " 'NIWOT, CO US',\n",
       " 'NORTHGLENN, CO US',\n",
       " 'RALSTON RESERVOIR, CO US',\n",
       " 'SUGARLOAF COLORADO, CO US'}"
      ]
     },
     "execution_count": 166,
     "metadata": {},
     "output_type": "execute_result"
    }
   ],
   "source": [
    "set(df[\"NAME\"])"
   ]
  },
  {
   "cell_type": "code",
   "execution_count": 167,
   "metadata": {},
   "outputs": [
    {
     "data": {
      "text/plain": [
       "array(['BOULDER 14 W, CO US', 'GROSS RESERVOIR, CO US',\n",
       "       'SUGARLOAF COLORADO, CO US', 'NIWOT, CO US', 'BOULDER, CO US',\n",
       "       'RALSTON RESERVOIR, CO US', 'NORTHGLENN, CO US'], dtype=object)"
      ]
     },
     "execution_count": 167,
     "metadata": {},
     "output_type": "execute_result"
    }
   ],
   "source": [
    "df[\"NAME\"].unique()"
   ]
  },
  {
   "cell_type": "markdown",
   "metadata": {},
   "source": [
    "It looks like we have data from seven different weather stations.  For consistency, let's reduce the data to just the reports from the weather station in Niwot.  "
   ]
  },
  {
   "cell_type": "markdown",
   "metadata": {},
   "source": [
    "### Exercise 1\n",
    "***\n",
    "Extract the rows of the DataFrame concerned with the Niwot weather station.  Store this data in a new DataFrame called dfNiwot. "
   ]
  },
  {
   "cell_type": "code",
   "execution_count": 168,
   "metadata": {},
   "outputs": [
    {
     "data": {
      "text/html": [
       "<div>\n",
       "<style scoped>\n",
       "    .dataframe tbody tr th:only-of-type {\n",
       "        vertical-align: middle;\n",
       "    }\n",
       "\n",
       "    .dataframe tbody tr th {\n",
       "        vertical-align: top;\n",
       "    }\n",
       "\n",
       "    .dataframe thead th {\n",
       "        text-align: right;\n",
       "    }\n",
       "</style>\n",
       "<table border=\"1\" class=\"dataframe\">\n",
       "  <thead>\n",
       "    <tr style=\"text-align: right;\">\n",
       "      <th></th>\n",
       "      <th>STATION</th>\n",
       "      <th>NAME</th>\n",
       "      <th>DATE</th>\n",
       "      <th>PRCP</th>\n",
       "      <th>TMAX</th>\n",
       "      <th>TMIN</th>\n",
       "    </tr>\n",
       "  </thead>\n",
       "  <tbody>\n",
       "    <tr>\n",
       "      <th>93</th>\n",
       "      <td>USS0005J42S</td>\n",
       "      <td>NIWOT, CO US</td>\n",
       "      <td>2017-07-01</td>\n",
       "      <td>0.0</td>\n",
       "      <td>69.0</td>\n",
       "      <td>32.0</td>\n",
       "    </tr>\n",
       "    <tr>\n",
       "      <th>94</th>\n",
       "      <td>USS0005J42S</td>\n",
       "      <td>NIWOT, CO US</td>\n",
       "      <td>2017-07-02</td>\n",
       "      <td>0.0</td>\n",
       "      <td>73.0</td>\n",
       "      <td>37.0</td>\n",
       "    </tr>\n",
       "    <tr>\n",
       "      <th>95</th>\n",
       "      <td>USS0005J42S</td>\n",
       "      <td>NIWOT, CO US</td>\n",
       "      <td>2017-07-03</td>\n",
       "      <td>0.0</td>\n",
       "      <td>68.0</td>\n",
       "      <td>47.0</td>\n",
       "    </tr>\n",
       "    <tr>\n",
       "      <th>96</th>\n",
       "      <td>USS0005J42S</td>\n",
       "      <td>NIWOT, CO US</td>\n",
       "      <td>2017-07-04</td>\n",
       "      <td>0.1</td>\n",
       "      <td>70.0</td>\n",
       "      <td>41.0</td>\n",
       "    </tr>\n",
       "    <tr>\n",
       "      <th>97</th>\n",
       "      <td>USS0005J42S</td>\n",
       "      <td>NIWOT, CO US</td>\n",
       "      <td>2017-07-05</td>\n",
       "      <td>0.0</td>\n",
       "      <td>74.0</td>\n",
       "      <td>40.0</td>\n",
       "    </tr>\n",
       "  </tbody>\n",
       "</table>\n",
       "</div>"
      ],
      "text/plain": [
       "        STATION          NAME        DATE  PRCP  TMAX  TMIN\n",
       "93  USS0005J42S  NIWOT, CO US  2017-07-01   0.0  69.0  32.0\n",
       "94  USS0005J42S  NIWOT, CO US  2017-07-02   0.0  73.0  37.0\n",
       "95  USS0005J42S  NIWOT, CO US  2017-07-03   0.0  68.0  47.0\n",
       "96  USS0005J42S  NIWOT, CO US  2017-07-04   0.1  70.0  41.0\n",
       "97  USS0005J42S  NIWOT, CO US  2017-07-05   0.0  74.0  40.0"
      ]
     },
     "execution_count": 168,
     "metadata": {},
     "output_type": "execute_result"
    }
   ],
   "source": [
    "dfNiwot = df.loc[df[\"NAME\"]==\"NIWOT, CO US\",:]  # TODO \n",
    "dfNiwot.head() "
   ]
  },
  {
   "cell_type": "markdown",
   "metadata": {},
   "source": [
    "### Exercise 2  \n",
    "***\n",
    "\n",
    "Pandas (and Numpy) have canned functions that compute each of the summary statistics discussed in lecture.  We'll use the .mean( ) function as an example.  All of these functions can be called either on a Pandas Series (i.e. a column of a DataFrame) or on an entire DataFrame at one time.  \n",
    "\n",
    "For instance, the sample mean of the maximum daily temperature is given by "
   ]
  },
  {
   "cell_type": "code",
   "execution_count": 169,
   "metadata": {},
   "outputs": [
    {
     "data": {
      "text/plain": [
       "69.83870967741936"
      ]
     },
     "execution_count": 169,
     "metadata": {},
     "output_type": "execute_result"
    }
   ],
   "source": [
    "dfNiwot[\"TMAX\"].mean()"
   ]
  },
  {
   "cell_type": "code",
   "execution_count": 170,
   "metadata": {},
   "outputs": [
    {
     "data": {
      "text/plain": [
       "69.83870967741936"
      ]
     },
     "execution_count": 170,
     "metadata": {},
     "output_type": "execute_result"
    }
   ],
   "source": [
    "np.mean(dfNiwot[\"TMAX\"])"
   ]
  },
  {
   "cell_type": "markdown",
   "metadata": {},
   "source": [
    "Let's see what happens if we call .mean( ) on the entire DataFrame. "
   ]
  },
  {
   "cell_type": "code",
   "execution_count": 171,
   "metadata": {},
   "outputs": [
    {
     "data": {
      "text/plain": [
       "PRCP     0.061290\n",
       "TMAX    69.838710\n",
       "TMIN    43.548387\n",
       "dtype: float64"
      ]
     },
     "execution_count": 171,
     "metadata": {},
     "output_type": "execute_result"
    }
   ],
   "source": [
    "dfNiwot.mean()"
   ]
  },
  {
   "cell_type": "markdown",
   "metadata": {},
   "source": [
    "In this case, Pandas returned a Series with the means of all of the **numerical** data in the DataFrame. \n",
    "\n",
    "The functions for the other summary statistics are as follows: \n",
    "\n",
    "\\begin{array}{l|l}\n",
    "\\textrm{Function} & \\textrm{Statistics} \\\\\n",
    "\\hline\n",
    "\\textrm{.var()} & \\textrm{variance} \\\\\n",
    "\\textrm{.std()} & \\textrm{standard deviation} \\\\\n",
    "\\textrm{.min()} & \\textrm{minimum value} \\\\\n",
    "\\textrm{.max()} & \\textrm{maximum value} \\\\\n",
    "\\textrm{.median()} & \\textrm{value} \\\\\n",
    "\\textrm{.quantile(q)} & \\textrm{quantile, where q is the desired percentage as a decimal} \\\\\n",
    "\\end{array}\n",
    "\n",
    "Your job is to use these functions to compute the 5-number summary for the maximum daily temperature. "
   ]
  },
  {
   "cell_type": "markdown",
   "metadata": {},
   "source": [
    "var and std in PANDAS automatically does n-1 in denominator\n",
    "\n",
    "but\n",
    "\n",
    "var and std in NUMPY do not"
   ]
  },
  {
   "cell_type": "code",
   "execution_count": 172,
   "metadata": {},
   "outputs": [
    {
     "data": {
      "text/plain": [
       "31.606451612903232"
      ]
     },
     "execution_count": 172,
     "metadata": {},
     "output_type": "execute_result"
    }
   ],
   "source": [
    "dfNiwot[\"TMAX\"].var()"
   ]
  },
  {
   "cell_type": "code",
   "execution_count": 173,
   "metadata": {},
   "outputs": [
    {
     "data": {
      "text/plain": [
       "31.606451612903232"
      ]
     },
     "execution_count": 173,
     "metadata": {},
     "output_type": "execute_result"
    }
   ],
   "source": [
    "np.var(dfNiwot[\"TMAX\"], ddof=1)"
   ]
  },
  {
   "cell_type": "code",
   "execution_count": 174,
   "metadata": {},
   "outputs": [
    {
     "name": "stdout",
     "output_type": "stream",
     "text": [
      "5-Number Summary: 54.00    66.50    70.00    74.00    80.00\n",
      "66.5\n"
     ]
    }
   ],
   "source": [
    "FiveNS = \"TMAX\" #Since we are computing the 5 number summary for the max daily temp\n",
    "minval = dfNiwot[FiveNS].min()\n",
    "maxval = dfNiwot[FiveNS].max()\n",
    "Q1 = dfNiwot[FiveNS].quantile(0.25)\n",
    "Q2 = dfNiwot[FiveNS].quantile(0.5)\n",
    "Q3 = dfNiwot[FiveNS].quantile(0.75)\n",
    "print(\"5-Number Summary: {:.2f}    {:.2f}    {:.2f}    {:.2f}    {:.2f}\".format(minval, Q1, Q2, Q3, maxval))\n",
    "print(Q1)"
   ]
  },
  {
   "cell_type": "markdown",
   "metadata": {},
   "source": [
    "### Exercise 3 \n",
    "***\n",
    "It turns out that Pandas has a nice function called .describe( ) that will compute all of the standard summary statistics for you.  You can apply it either to a Pandas Series or to an entire DataFrame.  \n",
    "\n",
    "Run the .describe( ) function on the **TMAX** column of your DataFrame, and check that the results agree with your computations from Exercise 2. "
   ]
  },
  {
   "cell_type": "code",
   "execution_count": 175,
   "metadata": {},
   "outputs": [
    {
     "data": {
      "text/plain": [
       "count    31.000000\n",
       "mean     69.838710\n",
       "std       5.621962\n",
       "min      54.000000\n",
       "25%      66.500000\n",
       "50%      70.000000\n",
       "75%      74.000000\n",
       "max      80.000000\n",
       "Name: TMAX, dtype: float64"
      ]
     },
     "execution_count": 175,
     "metadata": {},
     "output_type": "execute_result"
    }
   ],
   "source": [
    "dfNiwot[\"TMAX\"].describe()"
   ]
  },
  {
   "cell_type": "markdown",
   "metadata": {},
   "source": [
    "### Exercise 4 \n",
    "***\n",
    "In this exercise we'll explore how the mean and the standard deviation change when we perform basic transformations on the data.  In particular, we're interested in what happens if we \n",
    "\n",
    "1. Add or subtract some value from every entry in the data set \n",
    "1. Multiply every entry in the data set by some value \n",
    "\n",
    "We know from above that the mean and standard deviation of the Niwot **TMAX** value are 69.83871 and 5.621962.  Experiment by adding and multiplying nice integer values with the **TMAX** column and then recomputing the statistics.  From your observations, can you guess how the mean and std dev change under these transformations? "
   ]
  },
  {
   "cell_type": "code",
   "execution_count": 176,
   "metadata": {},
   "outputs": [
    {
     "name": "stdout",
     "output_type": "stream",
     "text": [
      "count    31.000000\n",
      "mean     79.838710\n",
      "std       5.621962\n",
      "min      64.000000\n",
      "25%      76.500000\n",
      "50%      80.000000\n",
      "75%      84.000000\n",
      "max      90.000000\n",
      "Name: TMAX, dtype: float64\n",
      "count     31.000000\n",
      "mean     698.387097\n",
      "std       56.219615\n",
      "min      540.000000\n",
      "25%      665.000000\n",
      "50%      700.000000\n",
      "75%      740.000000\n",
      "max      800.000000\n",
      "Name: TMAX, dtype: float64\n"
     ]
    }
   ],
   "source": [
    "dfNiwotAdd = (dfNiwot[FiveNS].add(10)) # Std Dev stays the same when adding to all values\n",
    "\n",
    "print(dfNiwotAdd.describe())\n",
    "\n",
    "dfNiwotMult = (dfNiwot[FiveNS].multiply(10)) # Std Dev increases as datas becomes more spread when everything is multiplied\n",
    "\n",
    "print(dfNiwotMult.describe())"
   ]
  },
  {
   "cell_type": "markdown",
   "metadata": {},
   "source": [
    "See if you can prove that your guess works in general mathematically using the formulas for the two statistics: \n",
    "\n",
    "$$\n",
    "\\bar{x} = \\frac{1}{n} \\displaystyle\\sum_{k=1}^n x_k \\quad \\quad \\textrm{and} \\quad \\quad s = \\sqrt{\\frac{1}{n-1} \\sum_{k=1}^n \\left( x_k - \\bar{x}\\right)^2} \n",
    "$$"
   ]
  },
  {
   "cell_type": "markdown",
   "metadata": {},
   "source": [
    "### Exercise 5 \n",
    "***\n",
    "OK, let's apply a common transformation to the **TMAX** and **TMIN** columns by converting the temperatures from Fahrenheit to Celsius.  Remember that the transformation is given by \n",
    "\n",
    "$$\n",
    "\\textrm{CELSIUS} = \\frac{5}{9} (\\textrm{FAHRENHEIT}-32) \n",
    "$$\n",
    "\n",
    "First, use the Fahrenheit data in columns **TMAX** and **TMIN** to create Celsius columns in the Niwot DataFrame called **TMAX-C** and **TMIN-C**."
   ]
  },
  {
   "cell_type": "code",
   "execution_count": 177,
   "metadata": {},
   "outputs": [],
   "source": [
    "pd.options.mode.chained_assignment = None # Essentially ignores the settingwithcopy warning\n",
    "# Remember iloc is for unknown indexes in a row or column\n",
    "dfNiwot.loc[:,\"TMAX-C\"] = (5/9)*(dfNiwot.loc[:, FiveNS] - 32)\n",
    "\n",
    "dfNiwot.loc[:,\"TMIN-C\"] = (5/9)*(dfNiwot.loc[:, \"TMIN\"] - 32)"
   ]
  },
  {
   "cell_type": "code",
   "execution_count": 178,
   "metadata": {},
   "outputs": [
    {
     "data": {
      "text/html": [
       "<div>\n",
       "<style scoped>\n",
       "    .dataframe tbody tr th:only-of-type {\n",
       "        vertical-align: middle;\n",
       "    }\n",
       "\n",
       "    .dataframe tbody tr th {\n",
       "        vertical-align: top;\n",
       "    }\n",
       "\n",
       "    .dataframe thead th {\n",
       "        text-align: right;\n",
       "    }\n",
       "</style>\n",
       "<table border=\"1\" class=\"dataframe\">\n",
       "  <thead>\n",
       "    <tr style=\"text-align: right;\">\n",
       "      <th></th>\n",
       "      <th>STATION</th>\n",
       "      <th>NAME</th>\n",
       "      <th>DATE</th>\n",
       "      <th>PRCP</th>\n",
       "      <th>TMAX</th>\n",
       "      <th>TMIN</th>\n",
       "      <th>TMAX-C</th>\n",
       "      <th>TMIN-C</th>\n",
       "    </tr>\n",
       "  </thead>\n",
       "  <tbody>\n",
       "    <tr>\n",
       "      <th>93</th>\n",
       "      <td>USS0005J42S</td>\n",
       "      <td>NIWOT, CO US</td>\n",
       "      <td>2017-07-01</td>\n",
       "      <td>0.0</td>\n",
       "      <td>69.0</td>\n",
       "      <td>32.0</td>\n",
       "      <td>20.555556</td>\n",
       "      <td>0.000000</td>\n",
       "    </tr>\n",
       "    <tr>\n",
       "      <th>94</th>\n",
       "      <td>USS0005J42S</td>\n",
       "      <td>NIWOT, CO US</td>\n",
       "      <td>2017-07-02</td>\n",
       "      <td>0.0</td>\n",
       "      <td>73.0</td>\n",
       "      <td>37.0</td>\n",
       "      <td>22.777778</td>\n",
       "      <td>2.777778</td>\n",
       "    </tr>\n",
       "    <tr>\n",
       "      <th>95</th>\n",
       "      <td>USS0005J42S</td>\n",
       "      <td>NIWOT, CO US</td>\n",
       "      <td>2017-07-03</td>\n",
       "      <td>0.0</td>\n",
       "      <td>68.0</td>\n",
       "      <td>47.0</td>\n",
       "      <td>20.000000</td>\n",
       "      <td>8.333333</td>\n",
       "    </tr>\n",
       "    <tr>\n",
       "      <th>96</th>\n",
       "      <td>USS0005J42S</td>\n",
       "      <td>NIWOT, CO US</td>\n",
       "      <td>2017-07-04</td>\n",
       "      <td>0.1</td>\n",
       "      <td>70.0</td>\n",
       "      <td>41.0</td>\n",
       "      <td>21.111111</td>\n",
       "      <td>5.000000</td>\n",
       "    </tr>\n",
       "    <tr>\n",
       "      <th>97</th>\n",
       "      <td>USS0005J42S</td>\n",
       "      <td>NIWOT, CO US</td>\n",
       "      <td>2017-07-05</td>\n",
       "      <td>0.0</td>\n",
       "      <td>74.0</td>\n",
       "      <td>40.0</td>\n",
       "      <td>23.333333</td>\n",
       "      <td>4.444444</td>\n",
       "    </tr>\n",
       "  </tbody>\n",
       "</table>\n",
       "</div>"
      ],
      "text/plain": [
       "        STATION          NAME        DATE  PRCP  TMAX  TMIN     TMAX-C  \\\n",
       "93  USS0005J42S  NIWOT, CO US  2017-07-01   0.0  69.0  32.0  20.555556   \n",
       "94  USS0005J42S  NIWOT, CO US  2017-07-02   0.0  73.0  37.0  22.777778   \n",
       "95  USS0005J42S  NIWOT, CO US  2017-07-03   0.0  68.0  47.0  20.000000   \n",
       "96  USS0005J42S  NIWOT, CO US  2017-07-04   0.1  70.0  41.0  21.111111   \n",
       "97  USS0005J42S  NIWOT, CO US  2017-07-05   0.0  74.0  40.0  23.333333   \n",
       "\n",
       "      TMIN-C  \n",
       "93  0.000000  \n",
       "94  2.777778  \n",
       "95  8.333333  \n",
       "96  5.000000  \n",
       "97  4.444444  "
      ]
     },
     "execution_count": 178,
     "metadata": {},
     "output_type": "execute_result"
    }
   ],
   "source": [
    "dfNiwot.head()"
   ]
  },
  {
   "cell_type": "markdown",
   "metadata": {},
   "source": [
    "**Note**: You may get a SetWithCopyWarning even if you're correctly using loc.  If you click the link to the documentation that comes with the warning you'll find a nice statement that says that SetWithCopyWarning can give false positives sometimes. \n",
    "\n",
    "Based on the stuff we proved in **Exercise 4**, what do you expect the mean and the standard deviation of the daily maximum temperature to be in Celsius? "
   ]
  },
  {
   "cell_type": "markdown",
   "metadata": {},
   "source": []
  },
  {
   "cell_type": "markdown",
   "metadata": {},
   "source": [
    "Once you've made your guess, see if you're right by applying the .describe( ) method to **TMAX-C** and **TMIN-C**. "
   ]
  },
  {
   "cell_type": "code",
   "execution_count": 179,
   "metadata": {},
   "outputs": [
    {
     "name": "stdout",
     "output_type": "stream",
     "text": [
      "count    31.000000\n",
      "mean     21.021505\n",
      "std       3.123312\n",
      "min      12.222222\n",
      "25%      19.166667\n",
      "50%      21.111111\n",
      "75%      23.333333\n",
      "max      26.666667\n",
      "Name: TMAX-C, dtype: float64\n",
      "count    31.000000\n",
      "mean      6.415771\n",
      "std       2.235326\n",
      "min       0.000000\n",
      "25%       5.000000\n",
      "50%       6.666667\n",
      "75%       8.333333\n",
      "max      11.111111\n",
      "Name: TMIN-C, dtype: float64\n"
     ]
    }
   ],
   "source": [
    "print(dfNiwot[\"TMAX-C\"].describe())\n",
    "\n",
    "print(dfNiwot[\"TMIN-C\"].describe())"
   ]
  },
  {
   "cell_type": "markdown",
   "metadata": {},
   "source": [
    "### Exercise 6 \n",
    "***\n",
    "\n",
    "Compute the daily temperature range (max minus min) for each row in the Niwot DataFrame and store it in a column called **TDIFF**.  Then answer these questions.  \n",
    "\n",
    "- What is the mean temperature difference over the month of July? \n",
    "- What is the difference between the means of the max and min daily temperatures? \n",
    "- Do you see a relationship between these two quantities?  If so, can you prove that it's always the case for mean difference and difference of means? "
   ]
  },
  {
   "cell_type": "code",
   "execution_count": 182,
   "metadata": {},
   "outputs": [
    {
     "data": {
      "text/html": [
       "<div>\n",
       "<style scoped>\n",
       "    .dataframe tbody tr th:only-of-type {\n",
       "        vertical-align: middle;\n",
       "    }\n",
       "\n",
       "    .dataframe tbody tr th {\n",
       "        vertical-align: top;\n",
       "    }\n",
       "\n",
       "    .dataframe thead th {\n",
       "        text-align: right;\n",
       "    }\n",
       "</style>\n",
       "<table border=\"1\" class=\"dataframe\">\n",
       "  <thead>\n",
       "    <tr style=\"text-align: right;\">\n",
       "      <th></th>\n",
       "      <th>STATION</th>\n",
       "      <th>NAME</th>\n",
       "      <th>DATE</th>\n",
       "      <th>PRCP</th>\n",
       "      <th>TMAX</th>\n",
       "      <th>TMIN</th>\n",
       "      <th>TMAX-C</th>\n",
       "      <th>TMIN-C</th>\n",
       "      <th>TDIFF</th>\n",
       "      <th>Month</th>\n",
       "    </tr>\n",
       "  </thead>\n",
       "  <tbody>\n",
       "    <tr>\n",
       "      <th>93</th>\n",
       "      <td>USS0005J42S</td>\n",
       "      <td>NIWOT, CO US</td>\n",
       "      <td>2017-07-01</td>\n",
       "      <td>0.0</td>\n",
       "      <td>69.0</td>\n",
       "      <td>32.0</td>\n",
       "      <td>20.555556</td>\n",
       "      <td>0.000000</td>\n",
       "      <td>37.0</td>\n",
       "      <td>07</td>\n",
       "    </tr>\n",
       "    <tr>\n",
       "      <th>94</th>\n",
       "      <td>USS0005J42S</td>\n",
       "      <td>NIWOT, CO US</td>\n",
       "      <td>2017-07-02</td>\n",
       "      <td>0.0</td>\n",
       "      <td>73.0</td>\n",
       "      <td>37.0</td>\n",
       "      <td>22.777778</td>\n",
       "      <td>2.777778</td>\n",
       "      <td>36.0</td>\n",
       "      <td>07</td>\n",
       "    </tr>\n",
       "    <tr>\n",
       "      <th>95</th>\n",
       "      <td>USS0005J42S</td>\n",
       "      <td>NIWOT, CO US</td>\n",
       "      <td>2017-07-03</td>\n",
       "      <td>0.0</td>\n",
       "      <td>68.0</td>\n",
       "      <td>47.0</td>\n",
       "      <td>20.000000</td>\n",
       "      <td>8.333333</td>\n",
       "      <td>21.0</td>\n",
       "      <td>07</td>\n",
       "    </tr>\n",
       "    <tr>\n",
       "      <th>96</th>\n",
       "      <td>USS0005J42S</td>\n",
       "      <td>NIWOT, CO US</td>\n",
       "      <td>2017-07-04</td>\n",
       "      <td>0.1</td>\n",
       "      <td>70.0</td>\n",
       "      <td>41.0</td>\n",
       "      <td>21.111111</td>\n",
       "      <td>5.000000</td>\n",
       "      <td>29.0</td>\n",
       "      <td>07</td>\n",
       "    </tr>\n",
       "    <tr>\n",
       "      <th>97</th>\n",
       "      <td>USS0005J42S</td>\n",
       "      <td>NIWOT, CO US</td>\n",
       "      <td>2017-07-05</td>\n",
       "      <td>0.0</td>\n",
       "      <td>74.0</td>\n",
       "      <td>40.0</td>\n",
       "      <td>23.333333</td>\n",
       "      <td>4.444444</td>\n",
       "      <td>34.0</td>\n",
       "      <td>07</td>\n",
       "    </tr>\n",
       "  </tbody>\n",
       "</table>\n",
       "</div>"
      ],
      "text/plain": [
       "        STATION          NAME        DATE  PRCP  TMAX  TMIN     TMAX-C  \\\n",
       "93  USS0005J42S  NIWOT, CO US  2017-07-01   0.0  69.0  32.0  20.555556   \n",
       "94  USS0005J42S  NIWOT, CO US  2017-07-02   0.0  73.0  37.0  22.777778   \n",
       "95  USS0005J42S  NIWOT, CO US  2017-07-03   0.0  68.0  47.0  20.000000   \n",
       "96  USS0005J42S  NIWOT, CO US  2017-07-04   0.1  70.0  41.0  21.111111   \n",
       "97  USS0005J42S  NIWOT, CO US  2017-07-05   0.0  74.0  40.0  23.333333   \n",
       "\n",
       "      TMIN-C  TDIFF Month  \n",
       "93  0.000000   37.0    07  \n",
       "94  2.777778   36.0    07  \n",
       "95  8.333333   21.0    07  \n",
       "96  5.000000   29.0    07  \n",
       "97  4.444444   34.0    07  "
      ]
     },
     "execution_count": 182,
     "metadata": {},
     "output_type": "execute_result"
    }
   ],
   "source": [
    "dfNiwot.loc[:,\"TDIFF\"] = dfNiwot[\"TMAX\"] - dfNiwot[\"TMIN\"] # Temp Range\n",
    "\n",
    "dfNiwot.head()"
   ]
  },
  {
   "cell_type": "markdown",
   "metadata": {},
   "source": [
    "1. The mean temperature difference over the month of July is 26.29032258064516\n",
    "\n",
    "2. The difference of the means between the max and min daily temperatures is \n",
    "\n",
    "3. The relationship between these two quantities is that they are the same since there are only July dates in dfNiwot."
   ]
  },
  {
   "cell_type": "code",
   "execution_count": 186,
   "metadata": {},
   "outputs": [
    {
     "name": "stdout",
     "output_type": "stream",
     "text": [
      "The mean temp difference over the month of July is 26.29\n",
      "The mean temp difference for max and min daily temps is 26.29\n"
     ]
    }
   ],
   "source": [
    "dfDate = dfNiwot[\"DATE\"].str.split(\"-\", n = 2 , expand = True)\n",
    "dfNiwot[\"Month\"] = dfDate[1]\n",
    "print(\"The mean temp difference over the month of July is %5.2f\" % dfNiwot.loc[:,\"TDIFF\"].mean())# Mean temp difference for the month of July\n",
    "\n",
    "maxMinDiff = dfNiwot.loc[:,\"TMAX\"].mean() - dfNiwot.loc[:,\"TMIN\"].mean() # Mean temp difference of daily temperatures\n",
    "print(\"The mean temp difference for max and min daily temps is %5.2f\" % maxMinDiff)"
   ]
  },
  {
   "cell_type": "code",
   "execution_count": null,
   "metadata": {},
   "outputs": [],
   "source": []
  }
 ],
 "metadata": {
  "kernelspec": {
   "display_name": "Python 3",
   "language": "python",
   "name": "python3"
  },
  "language_info": {
   "codemirror_mode": {
    "name": "ipython",
    "version": 3
   },
   "file_extension": ".py",
   "mimetype": "text/x-python",
   "name": "python",
   "nbconvert_exporter": "python",
   "pygments_lexer": "ipython3",
   "version": "3.6.5"
  }
 },
 "nbformat": 4,
 "nbformat_minor": 2
}
